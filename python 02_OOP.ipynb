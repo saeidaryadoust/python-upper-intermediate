{
 "cells": [
  {
   "cell_type": "code",
   "execution_count": 1,
   "metadata": {},
   "outputs": [],
   "source": [
    "# '''\n",
    "#    OOP :\n",
    "#        class\n",
    "#        object\n",
    "#        __init__\n",
    "       \n",
    "# '''"
   ]
  },
  {
   "cell_type": "code",
   "execution_count": 7,
   "metadata": {},
   "outputs": [
    {
     "name": "stdout",
     "output_type": "stream",
     "text": [
      "2\n",
      "3\n",
      "----------------------\n",
      "5\n",
      "6\n",
      "----------------------\n",
      "{'a': 2, 'b': 3}\n",
      "----------------------\n",
      " class for add  , mul \n"
     ]
    }
   ],
   "source": [
    "class test :\n",
    "    ''' class for add  , mul '''\n",
    "    def set_var(self, a ,b):\n",
    "        self.a = a\n",
    "        self.b = b\n",
    "    def add(self):\n",
    "        return self.a + self.b\n",
    "    def mul(self):\n",
    "        return self.a * self.b\n",
    "\n",
    "obj1 = test()\n",
    "obj1.set_var(2,3)\n",
    "print(obj1.a)     # 2\n",
    "print(obj1.b)     # 3\n",
    "\n",
    "print('----------------------')\n",
    "print(obj1.add()) # 2+3=5\n",
    "print(obj1.mul()) # 2*3=6\n",
    "\n",
    "print('----------------------')\n",
    "print(obj1.__dict__)   # {'a': 2, 'b': 3}\n",
    "print('----------------------')\n",
    "print(obj1.__doc__)    #  class for add  , mul "
   ]
  },
  {
   "cell_type": "code",
   "execution_count": 6,
   "metadata": {},
   "outputs": [
    {
     "name": "stdout",
     "output_type": "stream",
     "text": [
      "4\n",
      "7\n",
      "11\n",
      "28\n",
      "{'a': 4}\n"
     ]
    }
   ],
   "source": [
    "obj2 = test()\n",
    "obj2.set_var(4,7)\n",
    "print(obj2.a)     # 4\n",
    "print(obj2.b)     # 7\n",
    "print(obj2.add()) # 11\n",
    "print(obj2.mul()) # 28\n",
    "\n",
    "del obj1\n",
    "# print(ob1.a)     # name 'obj1' is not defined \n",
    "\n",
    "del obj2.b\n",
    "print(obj2.__dict__)   # {'a': 4}\n"
   ]
  },
  {
   "cell_type": "markdown",
   "metadata": {},
   "source": [
    "# -- init --"
   ]
  },
  {
   "cell_type": "code",
   "execution_count": 18,
   "metadata": {},
   "outputs": [
    {
     "name": "stdout",
     "output_type": "stream",
     "text": [
      "10\n",
      "20\n",
      "-----------------\n",
      "30\n",
      "200\n",
      "-----------------\n",
      "10\n",
      "5\n",
      "------------------\n",
      "15\n",
      "50\n"
     ]
    }
   ],
   "source": [
    "class test ():\n",
    "    def __init__(self, a, b):\n",
    "        self.a = a \n",
    "        self.b = b\n",
    "    def sum (self):\n",
    "        return self.a + self.b\n",
    "    def mul(self):\n",
    "        return self.a * self.b\n",
    "\n",
    "obj1 = test(10 ,20)\n",
    "print(obj1.a)\n",
    "print(obj1.b)\n",
    "print('-----------------')\n",
    "print(obj1.sum())\n",
    "print(obj1.mul())\n",
    "\n",
    "print('-----------------')\n",
    "obj2 = test(a=10 , b=5)\n",
    "print(obj2.a)\n",
    "print(obj2.b)\n",
    "print('------------------')\n",
    "print(obj2.sum())\n",
    "print(obj2.mul())\n",
    "        "
   ]
  },
  {
   "cell_type": "code",
   "execution_count": 10,
   "metadata": {},
   "outputs": [
    {
     "name": "stdout",
     "output_type": "stream",
     "text": [
      "C++:jack\n"
     ]
    }
   ],
   "source": [
    "class Book:\n",
    "    def __init__(self,author, title):\n",
    "        self.author = author\n",
    "        self.title = title\n",
    "        \n",
    "    def info(self):\n",
    "       print(self.title + ':' + self.author)\n",
    "       \n",
    "x = Book('jack','C++')\n",
    "x.info()   "
   ]
  },
  {
   "cell_type": "code",
   "execution_count": 21,
   "metadata": {},
   "outputs": [
    {
     "name": "stdout",
     "output_type": "stream",
     "text": [
      "[{'name': 'saeid', 'score': 20}]\n",
      "--------------\n",
      "[{'name': 'saeid', 'score': 18}, {'name': 'vahid', 'score': 20}]\n"
     ]
    }
   ],
   "source": [
    "class student():\n",
    "    def __init__(self, name , score) :\n",
    "        self.d ={}\n",
    "        self.d['name'] = name\n",
    "        self.d['score'] = score\n",
    "    def get_sutdent (self):\n",
    "        return self.d\n",
    "lst=[]\n",
    "obj1 = student(name='saeid', score=20)\n",
    "lst.append(obj1.get_sutdent())\n",
    "print(lst)\n",
    "\n",
    "print('--------------')\n",
    "\n",
    "obj2 = student('saeid', 18)\n",
    "obj3= student('vahid' , 20)\n",
    "lst2= []\n",
    "lst2.append(obj2.get_sutdent())\n",
    "lst2.append(obj3.get_sutdent())\n",
    "print(list(lst2))"
   ]
  },
  {
   "cell_type": "code",
   "execution_count": 1,
   "metadata": {},
   "outputs": [
    {
     "name": "stdout",
     "output_type": "stream",
     "text": [
      "200.96\n",
      "True\n"
     ]
    }
   ],
   "source": [
    "class Circle:\n",
    "    def __init__(self, r):\n",
    "        self.r = r\n",
    "    \n",
    "    def area(self):\n",
    "        return self.r ** 2 * 3.14\n",
    "    \n",
    "x = Circle(8)    \n",
    "print(x.area())   # 200.96\n",
    "\n",
    "print(isinstance(x, Circle))  # True"
   ]
  },
  {
   "cell_type": "code",
   "execution_count": 5,
   "metadata": {},
   "outputs": [
    {
     "name": "stdout",
     "output_type": "stream",
     "text": [
      "4\n",
      "6\n",
      "5\n"
     ]
    }
   ],
   "source": [
    "class counter ():\n",
    "    def __init__(self, x):\n",
    "        self.x = x\n",
    "    def up(self):\n",
    "        self.x +=1\n",
    "    def down(self):\n",
    "        self.x -=1\n",
    "\n",
    "\n",
    "ob = counter(4)        \n",
    "print(ob.x)    # 4\n",
    "ob.up()\n",
    "ob.up()\n",
    "print(ob.x)   # 6\n",
    "ob.down()\n",
    "print(ob.x)   # 5\n"
   ]
  },
  {
   "cell_type": "code",
   "execution_count": 6,
   "metadata": {},
   "outputs": [
    {
     "name": "stdout",
     "output_type": "stream",
     "text": [
      "SAEID\n"
     ]
    }
   ],
   "source": [
    "class C():\n",
    "    def __init__(self):\n",
    "        self.s = ''\n",
    "    \n",
    "    def get_string(self):\n",
    "        self.s = input('input: ')\n",
    "  \n",
    "    def show(self):\n",
    "       print(self.s.upper())        \n",
    "       \n",
    "ob = C()       \n",
    "ob.get_string() \n",
    "ob.show()"
   ]
  },
  {
   "cell_type": "code",
   "execution_count": 7,
   "metadata": {},
   "outputs": [
    {
     "name": "stdout",
     "output_type": "stream",
     "text": [
      "2\n",
      "4\n"
     ]
    }
   ],
   "source": [
    "class Complex:\n",
    "    def __init__(self, r, i):\n",
    "        self.r = r\n",
    "        self.i = i\n",
    "\n",
    "x = Complex(2,4)        \n",
    "print(x.r)        # 2\n",
    "print(x.i)        # 4\n"
   ]
  },
  {
   "cell_type": "code",
   "execution_count": 8,
   "metadata": {},
   "outputs": [
    {
     "name": "stdout",
     "output_type": "stream",
     "text": [
      "False\n",
      "True\n"
     ]
    }
   ],
   "source": [
    "class Email:\n",
    "    def f(self):\n",
    "        self.sent = False\n",
    "    \n",
    "    def g(self):\n",
    "        self.sent = True\n",
    "        \n",
    "ob = Email()        \n",
    "ob.f()\n",
    "print(ob.sent)  # False\n",
    "ob.g()\n",
    "print(ob.sent)  # True\n"
   ]
  },
  {
   "cell_type": "code",
   "execution_count": 9,
   "metadata": {},
   "outputs": [
    {
     "name": "stdout",
     "output_type": "stream",
     "text": [
      "peugeot\n",
      "peugeot\n",
      "206\n",
      "207\n"
     ]
    }
   ],
   "source": [
    "class Machine:\n",
    "    model = 'peugeot'\n",
    "    \n",
    "    def __init__(self, t):\n",
    "        self.t = t\n",
    "\n",
    "m1 = Machine('206')        \n",
    "m2 = Machine('207')        \n",
    "\n",
    "print(m1.model)  # peugeot\n",
    "print(m2.model)  # peugeot\n",
    "print(m1.t)      # 206\n",
    "print(m2.t)      # 207"
   ]
  },
  {
   "cell_type": "code",
   "execution_count": 10,
   "metadata": {},
   "outputs": [
    {
     "name": "stdout",
     "output_type": "stream",
     "text": [
      "[1, 2, 3]\n",
      "[1, 2, 3]\n",
      "[1, 2, 3, 4]\n",
      "[1, 2, 3, 4]\n"
     ]
    }
   ],
   "source": [
    "class C:\n",
    "    lst = []\n",
    "    \n",
    "    def __init__(self, name):\n",
    "        self.name = name\n",
    "        \n",
    "    def f(self, x):\n",
    "        self.lst.append(x)         \n",
    "\n",
    "ob1 = C('A')     \n",
    "ob2 = C('B')   \n",
    "\n",
    "ob1.f(1)\n",
    "ob1.f(2)\n",
    "ob1.f(3)\n",
    "\n",
    "print(ob1.lst)   # [1, 2, 3]     \n",
    "print(ob2.lst)   # [1, 2, 3]   \n",
    "\n",
    "ob2.f(4)\n",
    "print(ob1.lst)   # [1, 2, 3, 4]     \n",
    "print(ob2.lst)   # [1, 2, 3, 4]"
   ]
  },
  {
   "cell_type": "code",
   "execution_count": 13,
   "metadata": {},
   "outputs": [
    {
     "name": "stdout",
     "output_type": "stream",
     "text": [
      "[1, 2, 3]\n",
      "------------\n",
      "[]\n",
      "------------\n",
      "[1, 2, 3]\n",
      "------------\n",
      "[4]\n"
     ]
    }
   ],
   "source": [
    "class C:\n",
    "    def __init__(self, name):\n",
    "        self.name = name\n",
    "        self.lst = []\n",
    "        \n",
    "    def f(self, x):\n",
    "        self.lst.append(x)         \n",
    "\n",
    "ob1 = C('A')     \n",
    "ob2 = C('B')   \n",
    "\n",
    "ob1.f(1)\n",
    "ob1.f(2)\n",
    "ob1.f(3)\n",
    "\n",
    "print(ob1.lst)   # [1, 2, 3]     \n",
    "print('------------')\n",
    "print(ob2.lst)   # []   \n",
    "print('------------')\n",
    "ob2.f(4)\n",
    "print(ob1.lst)   # [1, 2, 3]     \n",
    "print('------------')\n",
    "print(ob2.lst)   # [4]   "
   ]
  },
  {
   "cell_type": "code",
   "execution_count": 14,
   "metadata": {},
   "outputs": [
    {
     "name": "stdout",
     "output_type": "stream",
     "text": [
      "ali\n",
      "sara\n",
      "cse\n",
      "cse\n",
      "cse\n"
     ]
    }
   ],
   "source": [
    "class Student:\n",
    "    stream = 'cse'   # class variable\n",
    "    \n",
    "    def __init__(self, name , score):\n",
    "        self.name = name      # instance variable\n",
    "        self.score = score    # instance variable\n",
    "\n",
    "# objects of student class\n",
    "s1 = Student('ali', 19)        \n",
    "s2 = Student('sara', 18) \n",
    "\n",
    "print(s1.name)    # ali    \n",
    "print(s2.name)    # sara\n",
    "\n",
    "print(s1.stream)  #cse\n",
    "print(s2.stream)  #cse \n",
    "\n",
    "print(Student.stream)   # cse\n",
    "# print(Student.name)   # AttributeError"
   ]
  },
  {
   "cell_type": "code",
   "execution_count": 15,
   "metadata": {},
   "outputs": [
    {
     "name": "stdout",
     "output_type": "stream",
     "text": [
      "dog\n",
      "dog\n",
      "brown\n",
      "black\n"
     ]
    }
   ],
   "source": [
    "class Dog:\n",
    "    animal = 'dog'\n",
    "    \n",
    "    def __init__(self, b , c):\n",
    "        self.b = b\n",
    "        self.c = c\n",
    "\n",
    "d1 = Dog('pug' , 'brown')        \n",
    "d2 = Dog('bulldog' , 'black')        \n",
    "\n",
    "print(d1.animal)   # dog\n",
    "print(d2.animal)   # dog\n",
    "\n",
    "print(d1.c)   # brown\n",
    "print(d2.c)   # black"
   ]
  },
  {
   "cell_type": "code",
   "execution_count": 17,
   "metadata": {},
   "outputs": [
    {
     "name": "stdout",
     "output_type": "stream",
     "text": [
      "1\n",
      "3\n",
      "--------------\n",
      "{'a': 1, '_Test__b': 3}\n",
      "3\n",
      "--------------\n",
      "8\n"
     ]
    }
   ],
   "source": [
    "# private\n",
    "class Test:\n",
    "    def __init__(self, a, b):\n",
    "        self.a = a     # public\n",
    "        self.__b = b   # private\n",
    "\n",
    "    def f(self):\n",
    "        self.__b += 1\n",
    "        print(self.__b)\n",
    "    \n",
    "ob = Test(1, 2)        \n",
    "print(ob.a)          # 1\n",
    "#print(ob.__b)       # AttributeError\n",
    "\n",
    "ob.f() \n",
    "print('--------------')\n",
    "\n",
    "print(ob.__dict__)   # {'a': 1, '_Test__b': 3}\n",
    "print(ob._Test__b)   # 3     name mangling\n",
    "\n",
    "print('--------------')\n",
    "ob._Test__b  = 8    \n",
    "print(ob._Test__b)   # 8"
   ]
  },
  {
   "cell_type": "code",
   "execution_count": 18,
   "metadata": {},
   "outputs": [
    {
     "name": "stdout",
     "output_type": "stream",
     "text": [
      "{'_S__a': 1}\n",
      "1 2\n",
      "2 8\n"
     ]
    }
   ],
   "source": [
    "class S:\n",
    "    def __init__(self, x):\n",
    "        self.__a = x\n",
    "        \n",
    "    def f(self):\n",
    "        print(self.__a, end=' ')\n",
    "        self.__a += 1\n",
    "        return(self.__a)\n",
    "        \n",
    "    def g(self, m):\n",
    "       print( m + self.f())        \n",
    "       \n",
    "ob = S(1) \n",
    "print(ob.__dict__)   # {'_S__a': 1}\n",
    "print(ob.f())        # 1 2\n",
    "ob.g(5)              # 2 8"
   ]
  },
  {
   "cell_type": "code",
   "execution_count": 19,
   "metadata": {},
   "outputs": [
    {
     "name": "stdout",
     "output_type": "stream",
     "text": [
      "3\n",
      "3\n"
     ]
    }
   ],
   "source": [
    "class AB:\n",
    "    __x = 3\n",
    "    \n",
    "    def show(self):\n",
    "        print(self.__x)\n",
    "\n",
    "\n",
    "ob = AB()        \n",
    "ob.show()        # 3\n",
    "print(ob._AB__x) # 3"
   ]
  },
  {
   "cell_type": "code",
   "execution_count": 20,
   "metadata": {},
   "outputs": [
    {
     "name": "stdout",
     "output_type": "stream",
     "text": [
      "1\n",
      "1\n"
     ]
    }
   ],
   "source": [
    "# private method\n",
    "\n",
    "class ABC:\n",
    "    def __f(self):  \n",
    "        print(1)\n",
    "    \n",
    "    def g(self):\n",
    "        return (self.__f())\n",
    "\n",
    "ob = ABC()    \n",
    "ob.g()      # 1\n",
    "# ob.__f()  # AttributeError\n",
    "\n",
    "ob._ABC__f() # 1"
   ]
  },
  {
   "cell_type": "code",
   "execution_count": null,
   "metadata": {},
   "outputs": [],
   "source": []
  }
 ],
 "metadata": {
  "kernelspec": {
   "display_name": "Python 3",
   "language": "python",
   "name": "python3"
  },
  "language_info": {
   "codemirror_mode": {
    "name": "ipython",
    "version": 3
   },
   "file_extension": ".py",
   "mimetype": "text/x-python",
   "name": "python",
   "nbconvert_exporter": "python",
   "pygments_lexer": "ipython3",
   "version": "3.12.2"
  }
 },
 "nbformat": 4,
 "nbformat_minor": 2
}
