{
 "cells": [
  {
   "cell_type": "markdown",
   "metadata": {},
   "source": [
    "# Data Types   "
   ]
  },
  {
   "cell_type": "code",
   "execution_count": 1,
   "metadata": {},
   "outputs": [
    {
     "name": "stdout",
     "output_type": "stream",
     "text": [
      "<class 'int'>\n",
      "------\n",
      "<class 'float'>\n",
      "------\n",
      "<class 'str'>\n",
      "------\n",
      "<class 'complex'>\n",
      "------\n",
      "<class 'bool'>\n"
     ]
    }
   ],
   "source": [
    "\n",
    "'''\n",
    "    int\n",
    "    float\n",
    "    str\n",
    "    complex\n",
    "    bool\n",
    "'''\n",
    "i = 5                \n",
    "print(type(i))      # <class 'int'>\n",
    "\n",
    "print('------')\n",
    "\n",
    "f = 3.6       \n",
    "print(type(f))      # <class 'float'>\n",
    "\n",
    "print('------')\n",
    "\n",
    "s = \"Python\"  \n",
    "print(type(s))      # <class 'str'>\n",
    "\n",
    "print('------')\n",
    "\n",
    "c = 2 + 7j          \n",
    "print(type(c))      # <class 'complex'>\n",
    "\n",
    "print('------')\n",
    "\n",
    "b = True       \n",
    "print(type(b))      # <class 'bool'>"
   ]
  },
  {
   "cell_type": "markdown",
   "metadata": {},
   "source": [
    "# '--variable names---'"
   ]
  },
  {
   "cell_type": "code",
   "execution_count": 2,
   "metadata": {},
   "outputs": [
    {
     "name": "stdout",
     "output_type": "stream",
     "text": [
      "True\n",
      "False\n",
      "True\n",
      "True\n",
      "False\n",
      "True\n"
     ]
    }
   ],
   "source": [
    "print('a2'.isidentifier())      # True\n",
    "print('2a'.isidentifier())      # False\n",
    "print('_myvar'.isidentifier())  # True\n",
    "print('my_var'.isidentifier())  # True\n",
    "print('my$'.isidentifier())     # False\n",
    "\n",
    "from keyword import iskeyword\n",
    "print( iskeyword('if'))         # True"
   ]
  },
  {
   "cell_type": "markdown",
   "metadata": {},
   "source": [
    "# Python Casting"
   ]
  },
  {
   "cell_type": "code",
   "execution_count": 3,
   "metadata": {},
   "outputs": [
    {
     "name": "stdout",
     "output_type": "stream",
     "text": [
      "4.0\n",
      "------\n",
      "16\n",
      "------\n",
      "8\n",
      "4\n",
      "------\n",
      "2\n",
      "3\n",
      "------\n"
     ]
    }
   ],
   "source": [
    "i = 4\n",
    "print(float(i))     # 4.0\n",
    "\n",
    "print('------')\n",
    "\n",
    "s ='15'\n",
    "print(int(s) + 1)   # 16\n",
    "\n",
    "print('------')\n",
    "\n",
    "x = 4         \n",
    "y = 8         \n",
    "y, x = x, y         # assign y value to x and x value to y\n",
    "print(x)            # 8\n",
    "print(y)            # 4\n",
    "\n",
    "print('------')\n",
    "\n",
    "a = 1\n",
    "b = 2\n",
    "a, b = b, a + b\n",
    "print(a)           # 2\n",
    "print(b)           # 3 \n",
    "\n",
    "print('------')"
   ]
  },
  {
   "cell_type": "markdown",
   "metadata": {},
   "source": [
    "# Operator"
   ]
  },
  {
   "cell_type": "code",
   "execution_count": 4,
   "metadata": {},
   "outputs": [],
   "source": [
    "# '''\n",
    "# Operators :\n",
    "#     Arithmetic : +,-,*,/,%,**,//   \n",
    "#     Assignment : =,+=,-=,*= ,/= ,%= ,//= ,**= \n",
    "#     Comparison : ==,!=,>,<,>=,<=\n",
    "#     Logical    : and, or, not\n",
    "#     Membership : in , not in\n",
    "#     Bitwise    :  &, |, ^, ~, <<, >>"
   ]
  },
  {
   "cell_type": "code",
   "execution_count": 5,
   "metadata": {},
   "outputs": [
    {
     "name": "stdout",
     "output_type": "stream",
     "text": [
      "8\n",
      "1\n",
      "9\n",
      "------\n",
      "2\n",
      "------\n",
      "True\n",
      "------\n",
      "False\n",
      "------\n",
      "0b1111\n",
      "0b1001\n",
      "0b1111\n"
     ]
    }
   ],
   "source": [
    "print(17 // 2)         # 8\n",
    "print(17 % 2)          # 1\n",
    "print(3 ** 2)          # 9\n",
    "\n",
    "print('------')\n",
    "\n",
    "y = 4\n",
    "y //= 2               # y = y // 2\n",
    "print(y)              # 2\n",
    "\n",
    "print('------')\n",
    "\n",
    "print(2 != 3)                       # True\n",
    "\n",
    "print('------')\n",
    "\n",
    "print(1<3 and 4>5)                  # False\n",
    "\n",
    "print('------')\n",
    "\n",
    "a = 15\n",
    "print(bin(a))                       # 0b1111\n",
    "b = 9\n",
    "print(bin(b))                       # 0b1001\n",
    "c = a | b\n",
    "print(bin(c))                       # 0b1111"
   ]
  },
  {
   "cell_type": "markdown",
   "metadata": {},
   "source": [
    "# math"
   ]
  },
  {
   "cell_type": "code",
   "execution_count": 6,
   "metadata": {},
   "outputs": [
    {
     "name": "stdout",
     "output_type": "stream",
     "text": [
      "4.0\n",
      "4\n",
      "6\n",
      "4.0\n",
      "1.0\n",
      "5.0\n",
      "16.0\n",
      "3.141592653589793\n"
     ]
    }
   ],
   "source": [
    "import math\n",
    "print( math.sqrt(16))      # 4.0\n",
    "print( math.trunc(4.3))    # 4\n",
    "print( math.factorial(3))  # 6\n",
    "print( math.log2(16))      # 4.0\n",
    "print( math.fmod(17,2))    # 1.0\n",
    "print( math.fabs(-5))      # 5.0\n",
    "print( math.pow(2,4))      # 16.0\n",
    "print( math.pi)            # 3.141592653589793"
   ]
  },
  {
   "cell_type": "markdown",
   "metadata": {},
   "source": [
    "# random"
   ]
  },
  {
   "cell_type": "code",
   "execution_count": 7,
   "metadata": {},
   "outputs": [
    {
     "name": "stdout",
     "output_type": "stream",
     "text": [
      "4\n",
      "1\n"
     ]
    }
   ],
   "source": [
    "import random\n",
    "print( random.randint(1, 10))  \n",
    "print( random.choice([1,10]))  "
   ]
  },
  {
   "cell_type": "markdown",
   "metadata": {},
   "source": [
    "# datetime"
   ]
  },
  {
   "cell_type": "code",
   "execution_count": 8,
   "metadata": {},
   "outputs": [
    {
     "name": "stdout",
     "output_type": "stream",
     "text": [
      "2024-08-28 16:14:59.876879\n"
     ]
    }
   ],
   "source": [
    "import datetime\n",
    "now = datetime.datetime.now()\n",
    "print(now)                "
   ]
  },
  {
   "cell_type": "code",
   "execution_count": 10,
   "metadata": {},
   "outputs": [],
   "source": [
    "# '''\n",
    "# Control statements:\n",
    "#     if\n",
    "#     if else\n",
    "#     elif\n",
    "# '''"
   ]
  },
  {
   "cell_type": "code",
   "execution_count": 11,
   "metadata": {},
   "outputs": [
    {
     "name": "stdout",
     "output_type": "stream",
     "text": [
      "3.0\n"
     ]
    }
   ],
   "source": [
    "import math\n",
    "n = -9\n",
    "if n < 0 :\n",
    "   n = abs(n)\n",
    "   \n",
    "print(math.sqrt(n))        # 3.0"
   ]
  },
  {
   "cell_type": "code",
   "execution_count": 12,
   "metadata": {},
   "outputs": [
    {
     "name": "stdout",
     "output_type": "stream",
     "text": [
      "odd\n"
     ]
    }
   ],
   "source": [
    "a = 9\n",
    "if a % 2 == 0:\n",
    "    print('evevn')                  \n",
    "else:    \n",
    "    print('odd')         # odd"
   ]
  },
  {
   "cell_type": "markdown",
   "metadata": {},
   "source": [
    "# conditional expression"
   ]
  },
  {
   "cell_type": "code",
   "execution_count": 13,
   "metadata": {},
   "outputs": [
    {
     "name": "stdout",
     "output_type": "stream",
     "text": [
      "3\n"
     ]
    }
   ],
   "source": [
    "a = 3\n",
    "b = 8\n",
    "\n",
    "#if a < b:\n",
    "#    m = a\n",
    "#else:\n",
    "#    m = b\n",
    "\n",
    "m = a if a < b else b    \n",
    "\n",
    "print(m)                 # 3"
   ]
  },
  {
   "cell_type": "code",
   "execution_count": 16,
   "metadata": {},
   "outputs": [
    {
     "name": "stdout",
     "output_type": "stream",
     "text": [
      "fail\n"
     ]
    }
   ],
   "source": [
    "grade = 7\n",
    "s = 'fail' if grade < 10 else 'pass'\n",
    "print(s)                                # fail\n",
    "\n",
    "\n"
   ]
  },
  {
   "cell_type": "code",
   "execution_count": 17,
   "metadata": {},
   "outputs": [
    {
     "name": "stdout",
     "output_type": "stream",
     "text": [
      "watch TV\n"
     ]
    }
   ],
   "source": [
    "\n",
    "today = 'holiday'\n",
    "b = 40\n",
    "\n",
    "if today == 'holiday':\n",
    "   if b > 50:\n",
    "       print('shopping')              \n",
    "   else:\n",
    "       print('watch TV')               # watch TV\n",
    "else:\n",
    "    print('normal working day')  "
   ]
  },
  {
   "cell_type": "code",
   "execution_count": 15,
   "metadata": {},
   "outputs": [
    {
     "name": "stdout",
     "output_type": "stream",
     "text": [
      "B\n"
     ]
    }
   ],
   "source": [
    "score = 82\n",
    "\n",
    "if score >= 90:\n",
    "    l = 'A'\n",
    "else:\n",
    "  if score >= 80 :\n",
    "      l = 'B'\n",
    "  else:\n",
    "       if score>= 70:\n",
    "           l = 'C'\n",
    "       else :\n",
    "           l = 'D'\n",
    "\n",
    "print(l)         # B\n",
    "# or   \n",
    "if score >= 90:\n",
    "    l = 'A'\n",
    "elif score >= 80 :\n",
    "    l = 'B'\n",
    "elif score>= 70:\n",
    "    l = 'C'\n",
    "else :\n",
    "    l = 'D'"
   ]
  },
  {
   "cell_type": "code",
   "execution_count": 18,
   "metadata": {},
   "outputs": [],
   "source": [
    "# \"\"\"\n",
    "#     loop : \n",
    "#           for \n",
    "#           while"
   ]
  },
  {
   "cell_type": "code",
   "execution_count": 19,
   "metadata": {},
   "outputs": [
    {
     "name": "stdout",
     "output_type": "stream",
     "text": [
      "0 1 2 "
     ]
    }
   ],
   "source": [
    "\n",
    "for i in range(3):\n",
    "    print(i , end = ' ')      # 0 1 2 "
   ]
  },
  {
   "cell_type": "code",
   "execution_count": 20,
   "metadata": {},
   "outputs": [
    {
     "name": "stdout",
     "output_type": "stream",
     "text": [
      "hello\n",
      "hello\n",
      "hello\n"
     ]
    }
   ],
   "source": [
    "for _ in range(3):\n",
    "    print('hello')      \n",
    "    "
   ]
  },
  {
   "cell_type": "code",
   "execution_count": 21,
   "metadata": {},
   "outputs": [
    {
     "name": "stdout",
     "output_type": "stream",
     "text": [
      "6 8 10 "
     ]
    }
   ],
   "source": [
    "for j in range(6,11,2):\n",
    "    print(j , end = ' ' )    # 6 8 10\n"
   ]
  },
  {
   "cell_type": "code",
   "execution_count": 22,
   "metadata": {},
   "outputs": [
    {
     "name": "stdout",
     "output_type": "stream",
     "text": [
      "1 \n",
      "1 2 \n",
      "1 2 3 \n"
     ]
    }
   ],
   "source": [
    "for i in range(2,5):\n",
    "    for j in range(1,i):\n",
    "        print(j , end = ' ')\n",
    "    print()  "
   ]
  },
  {
   "cell_type": "markdown",
   "metadata": {},
   "source": [
    "        \n",
    "# break - continue"
   ]
  },
  {
   "cell_type": "code",
   "execution_count": 23,
   "metadata": {},
   "outputs": [
    {
     "name": "stdout",
     "output_type": "stream",
     "text": [
      "0 1 2 3 "
     ]
    }
   ],
   "source": [
    "for i in range(6):\n",
    "    if i == 4 :\n",
    "        break\n",
    "    else:\n",
    "        print(i,end=' ')   # 0 1 2 3\n"
   ]
  },
  {
   "cell_type": "code",
   "execution_count": 24,
   "metadata": {},
   "outputs": [
    {
     "name": "stdout",
     "output_type": "stream",
     "text": [
      "0 1 2 3 5 "
     ]
    }
   ],
   "source": [
    "for i in range(6):\n",
    "    if i == 4 :\n",
    "        continue\n",
    "    else:\n",
    "        print(i,end=' ')   # 0 1 2 3 5\n"
   ]
  },
  {
   "cell_type": "code",
   "execution_count": 25,
   "metadata": {},
   "outputs": [
    {
     "name": "stdout",
     "output_type": "stream",
     "text": [
      "1 2 3 4 "
     ]
    }
   ],
   "source": [
    "i = 1      \n",
    "while i <= 4:\n",
    "    print(i , end= ' ')    # 1 2 3 4\n",
    "    i += 1\n"
   ]
  },
  {
   "cell_type": "code",
   "execution_count": 26,
   "metadata": {},
   "outputs": [
    {
     "name": "stdout",
     "output_type": "stream",
     "text": [
      "8 7 6 5 "
     ]
    }
   ],
   "source": [
    "n = 9\n",
    "while n > 2:\n",
    "    n -= 1\n",
    "    if n == 4:\n",
    "        break\n",
    "    print(n , end = ' ')    # 8 7 6 5\n",
    "    "
   ]
  },
  {
   "cell_type": "code",
   "execution_count": 27,
   "metadata": {},
   "outputs": [
    {
     "name": "stdout",
     "output_type": "stream",
     "text": [
      "8 7 6 5 3 2 "
     ]
    }
   ],
   "source": [
    "n = 9\n",
    "while n > 2:\n",
    "    n -= 1\n",
    "    if n == 4:\n",
    "        continue\n",
    "    print(n , end = ' ')    # 8 7 6 5 3 2 \n",
    "    "
   ]
  },
  {
   "cell_type": "code",
   "execution_count": 28,
   "metadata": {},
   "outputs": [],
   "source": [
    "# '''\n",
    "#   string\n",
    "#         len , is..  ,find , count  , title , ljust , startswith , replcae , \n",
    "#         strip , split , join , format , ...\n",
    "# '''"
   ]
  },
  {
   "cell_type": "code",
   "execution_count": 30,
   "metadata": {},
   "outputs": [
    {
     "name": "stdout",
     "output_type": "stream",
     "text": [
      "6\n",
      "True\n",
      "True\n",
      "True\n",
      "False\n",
      "4\n",
      "1\n",
      "Python\n",
      "PYTHON\n",
      "python++\n",
      "True\n",
      "pyramid\n",
      "------\n",
      "python\n",
      "------\n",
      "['Python', 'created', 'by', 'Rossum']\n",
      "------\n",
      "Python created by Rossum\n",
      "------\n",
      "# format #\n",
      "name : python\n",
      "name:python\n",
      "------\n",
      "name:jack   family:jj\n",
      "------\n",
      "15 18.0\n"
     ]
    }
   ],
   "source": [
    "\n",
    "s = 'python'\n",
    "\n",
    "print(len(s))               # 6\n",
    "print( 'th' in s)           # True\n",
    "\n",
    "print(s.islower())          # True \n",
    "print(s.isalpha())          # True\n",
    "print(s.isdigit())          # False\n",
    "\n",
    "print(s.find('o'))          # 4\n",
    "print(s.count('o'))         # 1\n",
    "\n",
    "print(s.title())            # Python\n",
    "print(s.upper())            # PYTHON\n",
    "\n",
    "print(s.ljust(8,'+'))       # python++\n",
    "print(s.startswith('py'))   # True\n",
    "\n",
    "print(s.replace('thon','ramid'))   # pyramid\n",
    "\n",
    "print('------')\n",
    "\n",
    "s = '$python$$'\n",
    "print(s.strip('$'))     # python\n",
    "\n",
    "print('------')\n",
    "\n",
    "s = 'Python created by Rossum'\n",
    "a = s.split(' ')\n",
    "print(a)            # ['Python', 'created', 'by', 'Rossum']\n",
    "\n",
    "print('------')\n",
    "\n",
    "b = ['Python', 'created', 'by', 'Rossum']\n",
    "c =' '.join(b)\n",
    "print(c)\n",
    "\n",
    "print('------')\n",
    "print('# format #')\n",
    "      \n",
    "s = 'python'\n",
    "\n",
    "print(f'name : {s}')           # name : python\n",
    "print('name:{}'.format(s))     # name : python      \n",
    "\n",
    "print('------')\n",
    "\n",
    "a = 'jack'\n",
    "b = 'jj'\n",
    "\n",
    "print('name:{0}   family:{1}'.format(a, b))  \n",
    "\n",
    "# name:jack   family:jj\n",
    "\n",
    "print('------')\n",
    "\n",
    "a = 15\n",
    "b = 17.9999\n",
    "\n",
    "print('{:d} {:.1f}'.format(a, b))    # 15  18.0"
   ]
  },
  {
   "cell_type": "code",
   "execution_count": 31,
   "metadata": {},
   "outputs": [],
   "source": [
    "# \"\"\"\n",
    "#     list\n",
    "#     'index' ,'count','insert','remove','pop','reverse' , 'sort' ,'extend'\n",
    "#     , 'append','clear','copy',...\n",
    "    \n",
    "# \"\"\""
   ]
  },
  {
   "cell_type": "code",
   "execution_count": 32,
   "metadata": {},
   "outputs": [
    {
     "name": "stdout",
     "output_type": "stream",
     "text": [
      "<class 'list'>\n",
      "3\n",
      "1\n",
      "2\n",
      "------\n",
      "[5, 30, 8]\n",
      "[13, 5, 30]\n",
      "[8, 6, 25]\n",
      "[25, 6, 8, 30, 5, 13]\n",
      "[13, 30, 6]\n"
     ]
    }
   ],
   "source": [
    "a = [8, 2, 12]\n",
    "\n",
    "print(type(a))      # <class 'list'>\n",
    "\n",
    "print(len(a))       # 3\n",
    "\n",
    "print(a.index(2))   # 1\n",
    "\n",
    "print(a[1])         # 2\n",
    "a[1] = 7            # list is mutable\n",
    "\n",
    "print('------')\n",
    "\n",
    "a = [13, 5, 30, 8, 6, 25]\n",
    "\n",
    "print(a[1:4])        # [5, 30, 8]\n",
    "print(a[0:3])        # [13, 5, 30]\n",
    "print(a[3:])         # [8, 6, 25]\n",
    "print(a[::-1])       # [25, 6, 8, 30, 5, 13]\n",
    "\n",
    "print(a[0:7:2])      # [13, 30, 6]"
   ]
  },
  {
   "cell_type": "code",
   "execution_count": 33,
   "metadata": {},
   "outputs": [
    {
     "name": "stdout",
     "output_type": "stream",
     "text": [
      "sara\n",
      "mahsa\n",
      "sara\n",
      "mahsa\n"
     ]
    }
   ],
   "source": [
    "child = ['sara','mahsa']\n",
    "for i in child:\n",
    "    print(i)\n",
    "\n",
    "# or \n",
    "for i in range(len(child)):\n",
    "    print(child[i])\n"
   ]
  },
  {
   "cell_type": "code",
   "execution_count": 34,
   "metadata": {},
   "outputs": [
    {
     "name": "stdout",
     "output_type": "stream",
     "text": [
      "[3, 5, 3, 5]\n",
      "------\n",
      "[1, 2, 3, 'a', 'b']\n"
     ]
    }
   ],
   "source": [
    "a = [3, 5]\n",
    "b = a*2\n",
    "print(b)           # [3, 5, 3, 5]\n",
    "\n",
    "print('------')\n",
    "\n",
    "a = [1, 2 , 3]\n",
    "b = ['a', 'b']\n",
    "c = a + b\n",
    "print(c)           # [1, 2, 3 ,'a', 'b']\n"
   ]
  },
  {
   "cell_type": "code",
   "execution_count": 35,
   "metadata": {},
   "outputs": [
    {
     "name": "stdout",
     "output_type": "stream",
     "text": [
      "67\n",
      "3\n",
      "90\n",
      "1\n"
     ]
    }
   ],
   "source": [
    "a = [15 , 5 , 67 , 3 ]\n",
    "\n",
    "print(max(a))     # 67\n",
    "print(min(a))     # 3\n",
    "print(sum(a))     # 90\n",
    "\n",
    "print(a.count(5)) # 1"
   ]
  },
  {
   "cell_type": "code",
   "execution_count": 36,
   "metadata": {},
   "outputs": [
    {
     "name": "stdout",
     "output_type": "stream",
     "text": [
      "[15, 5, 8, 67, 3]\n",
      "[15, 5, 8, 3]\n",
      "3\n",
      "[15, 5, 8]\n",
      "5\n",
      "[15, 8]\n"
     ]
    }
   ],
   "source": [
    "\n",
    "a.insert(2,8)\n",
    "print(a)          # [15, 5, 8, 67, 3]\n",
    "\n",
    "a.remove(67)\n",
    "print(a)          # [15, 5, 8, 3]\n",
    "\n",
    "print(a.pop())    # 3\n",
    "print(a)          # [15, 5, 8]\n",
    "\n",
    "print(a.pop(1))   # 5\n",
    "print(a)          # [15, 8]\n"
   ]
  },
  {
   "cell_type": "code",
   "execution_count": 37,
   "metadata": {},
   "outputs": [
    {
     "name": "stdout",
     "output_type": "stream",
     "text": [
      "[15]\n",
      "------\n",
      "[4, 5, 7, 3]\n",
      "[3, 4, 5, 7]\n",
      "------\n",
      "[1, 2, 9]\n"
     ]
    }
   ],
   "source": [
    "del a[1]\n",
    "print(a)          # [15]\n",
    "\n",
    "print('------')\n",
    "a = [3,7,5,4]\n",
    "a.reverse()\n",
    "print(a)          # [4,5,7,3]\n",
    "\n",
    "a.sort()\n",
    "print(a)          # [3,4,5,7]\n",
    "\n",
    "print('------')\n",
    "\n",
    "a = [1,2]\n",
    "a.append(9)\n",
    "print(a)          # [1, 2, 9]\n"
   ]
  },
  {
   "cell_type": "code",
   "execution_count": 38,
   "metadata": {},
   "outputs": [
    {
     "name": "stdout",
     "output_type": "stream",
     "text": [
      "[1, 2, ['a', 'b']]\n",
      "3\n",
      "------\n",
      "[1, 2, 'a', 'b']\n",
      "4\n",
      "------\n",
      "[]\n",
      "0\n"
     ]
    }
   ],
   "source": [
    "x = [1, 2]\n",
    "y = ['a','b']\n",
    "x.append(y)\n",
    "print(x)          # [1, 2, ['a','b']]\n",
    "print(len(x))     # 3\n",
    "print('------')\n",
    "\n",
    "x = [1, 2]\n",
    "y = ['a','b']\n",
    "x.extend(y)\n",
    "print(x)          # [1, 2,'a','b']\n",
    "print(len(x))     # 4\n",
    "\n",
    "print('------')\n",
    "\n",
    "a = [1, 2, 3, 4]\n",
    "a.clear()\n",
    "print(a)          # []\n",
    "print(len(a))     # 0\n"
   ]
  },
  {
   "cell_type": "code",
   "execution_count": 39,
   "metadata": {},
   "outputs": [
    {
     "name": "stdout",
     "output_type": "stream",
     "text": [
      "[1, 2]\n",
      "------\n",
      "[0, 1, 2]\n",
      "[0, 1, 2]\n"
     ]
    }
   ],
   "source": [
    "a = [1,2]\n",
    "b = a.copy()\n",
    "print(b)         # [1, 2]\n",
    "\n",
    "print('------')\n",
    "\n",
    "a = []\n",
    "for i in range(3):\n",
    "    a.append(i)\n",
    "    \n",
    "print(a)          # [0, 1, 2]\n",
    "\n",
    "# or\n",
    "a = [i for i in range(3)]\n",
    "print(a)   "
   ]
  },
  {
   "cell_type": "code",
   "execution_count": 40,
   "metadata": {},
   "outputs": [
    {
     "name": "stdout",
     "output_type": "stream",
     "text": [
      "[18, 20]\n"
     ]
    }
   ],
   "source": [
    "\n",
    "grade = [5, 18, 20, 4, 7]\n",
    "\n",
    "a = [i for i in grade if i > 10]\n",
    "print(a)                          # [18,20]"
   ]
  },
  {
   "cell_type": "code",
   "execution_count": 41,
   "metadata": {},
   "outputs": [],
   "source": [
    "# \"\"\"\n",
    "#     Tuple:\n",
    "#     len , index, sum , min , max , count , ...\n",
    "# \"\"\""
   ]
  },
  {
   "cell_type": "code",
   "execution_count": 42,
   "metadata": {},
   "outputs": [
    {
     "name": "stdout",
     "output_type": "stream",
     "text": [
      "<class 'tuple'>\n",
      "3\n",
      "Art\n",
      "('Art', 'Mathematics')\n",
      "1\n",
      "True\n"
     ]
    }
   ],
   "source": [
    "t = ('English', 'Art', 'Mathematics')\n",
    "\n",
    "print(type(t))   # <class 'tuple'>\n",
    "\n",
    "print(len(t))    # 3\n",
    "\n",
    "print(t[1])      # Art\n",
    "\n",
    "print(t[1:3])    # ('Art', 'Mathematics')\n",
    "\n",
    "print(t.index('Art'))      # 1\n",
    "\n",
    "print( 'Art' in t)         # True\n",
    "\n",
    "# t[0] = 'history'         # error : tuples are immutable"
   ]
  },
  {
   "cell_type": "code",
   "execution_count": 43,
   "metadata": {},
   "outputs": [
    {
     "name": "stdout",
     "output_type": "stream",
     "text": [
      "13\n",
      "7\n",
      "1\n",
      "0\n"
     ]
    }
   ],
   "source": [
    "t = (1, 7, 5) \n",
    "   \n",
    "print(sum(t))      # 13\n",
    "print(max(t))      # 7\n",
    "print(min(t))      # 1\n",
    "\n",
    "print(t.count(9))  # 0"
   ]
  },
  {
   "cell_type": "code",
   "execution_count": 44,
   "metadata": {},
   "outputs": [
    {
     "name": "stdout",
     "output_type": "stream",
     "text": [
      "(5, 7, 1)\n",
      "------\n",
      "(1, 2, 3)\n"
     ]
    }
   ],
   "source": [
    "print(tuple(reversed(t)))  # (7,5,1)\n",
    "\n",
    "print('------')\n",
    "\n",
    "t = (1, 2)\n",
    "a = list(t)\n",
    "a.append(3)\n",
    "t = tuple(a)\n",
    "print(t)           # (1, 2, 3)"
   ]
  },
  {
   "cell_type": "code",
   "execution_count": 45,
   "metadata": {},
   "outputs": [
    {
     "name": "stdout",
     "output_type": "stream",
     "text": [
      "(14, 7, 19)\n"
     ]
    }
   ],
   "source": [
    "t = (14, 7, 3, 19)\n",
    "x = list(t)\n",
    "x.remove(3)\n",
    "t = tuple(x)\n",
    "print(t)          # (14, 7, 19)"
   ]
  },
  {
   "cell_type": "code",
   "execution_count": 46,
   "metadata": {},
   "outputs": [
    {
     "name": "stdout",
     "output_type": "stream",
     "text": [
      "red\n",
      "8\n"
     ]
    }
   ],
   "source": [
    "t = ('red', 8)\n",
    "x,y = t\n",
    "print(x)         # red\n",
    "print(y)         # 8"
   ]
  },
  {
   "cell_type": "code",
   "execution_count": 47,
   "metadata": {},
   "outputs": [
    {
     "name": "stdout",
     "output_type": "stream",
     "text": [
      "[(1, 'x'), (2, 'y')]\n",
      "[(1, 2), ('x', 'y')]\n"
     ]
    }
   ],
   "source": [
    "a = (1, 2)\n",
    "b = ('x', 'y')\n",
    "\n",
    "c = zip(a,b)\n",
    "\n",
    "print(list(c))           # [(1, 'x'), (2, 'y')]\n",
    "\n",
    "# unzip\n",
    "x = [(1, 'x'), (2, 'y')]\n",
    "u = zip(*x)\n",
    "print(list(u))          # [(1, 2), ('x','y')]"
   ]
  },
  {
   "cell_type": "code",
   "execution_count": 48,
   "metadata": {},
   "outputs": [],
   "source": [
    "# \"\"\"\n",
    "#    dictionary:\n",
    "#        len , get , keys , values , items , pop , popitems ,... \n",
    "# \"\"\""
   ]
  },
  {
   "cell_type": "code",
   "execution_count": 49,
   "metadata": {},
   "outputs": [],
   "source": [
    "d = {\n",
    "     'brand' : 'b' , \n",
    "     'model' : 'm' ,\n",
    "     'color' : 'red' , \n",
    "     'year'  : 2020\n",
    "     }\n",
    "\n",
    "# or \n",
    "# d = dict( brand = 'b' , model='m' , color = 'white' , 'year' = 2020)"
   ]
  },
  {
   "cell_type": "code",
   "execution_count": 52,
   "metadata": {},
   "outputs": [
    {
     "name": "stdout",
     "output_type": "stream",
     "text": [
      "<class 'dict'>\n",
      "4\n",
      "32\n",
      "32\n"
     ]
    }
   ],
   "source": [
    "\n",
    "d = {'x': 14, 'y': 32, 'z': 11, 'w': 7}\n",
    "\n",
    "print(type(d))           # <class dict>\n",
    "\n",
    "print(len(d))            # 4\n",
    "\n",
    "print( d['y'])           # 32\n",
    "\n",
    "print(d.get('y'))        # 32\n",
    "\n"
   ]
  },
  {
   "cell_type": "code",
   "execution_count": 53,
   "metadata": {},
   "outputs": [
    {
     "name": "stdout",
     "output_type": "stream",
     "text": [
      "['x', 'y', 'z', 'w']\n",
      "[14, 32, 11, 7]\n",
      "[('x', 14), ('y', 32), ('z', 11), ('w', 7)]\n",
      "x : 14\n",
      "y : 32\n",
      "z : 11\n",
      "w : 7\n"
     ]
    }
   ],
   "source": [
    "print(list(d.keys()))    # ['x', 'y', 'z', 'w']\n",
    "\n",
    "print(list(d.values()))  # [14, 32, 11, 7]\n",
    "\n",
    "print(list(d.items()))   # [('x', 14), ('y', 32), ('z', 11), ('w', 7)]\n",
    "\n",
    "for k,v in d.items():\n",
    "    print(k,':',v)"
   ]
  },
  {
   "cell_type": "code",
   "execution_count": 51,
   "metadata": {},
   "outputs": [
    {
     "name": "stdout",
     "output_type": "stream",
     "text": [
      "{'x': 14, 'z': 11, 'w': 7}\n",
      "{'x': 14, 'z': 11}\n",
      "{}\n"
     ]
    }
   ],
   "source": [
    "d.pop('y')    \n",
    "print(d)                 # {'x': 14, 'z': 11, 'w': 7}\n",
    "\n",
    "d.popitem()\n",
    "print(d)                 # {'x': 14, 'z': 11}\n",
    "\n",
    "d.clear()\n",
    "print(d)                 # {}\n",
    "\n",
    "del d"
   ]
  },
  {
   "cell_type": "code",
   "execution_count": 54,
   "metadata": {},
   "outputs": [
    {
     "name": "stdout",
     "output_type": "stream",
     "text": [
      "[('w', 7), ('z', 11), ('x', 14), ('y', 32)]\n"
     ]
    }
   ],
   "source": [
    "d = {'x': 14, 'y': 32, 'z': 11, 'w': 7}\n",
    "\n",
    "import operator\n",
    "\n",
    "k = operator.itemgetter(1)\n",
    "\n",
    "print(sorted(d.items(),key = k))\n",
    "\n",
    "# [('w', 7), ('z', 11), ('x', 14), ('y', 32)]"
   ]
  },
  {
   "cell_type": "code",
   "execution_count": 55,
   "metadata": {},
   "outputs": [
    {
     "name": "stdout",
     "output_type": "stream",
     "text": [
      "{'x': 3, 'y': 2, 'z': 1, 'w': 8, 't': 7}\n"
     ]
    }
   ],
   "source": [
    "# combine\n",
    "d1 = {'x' : 3 , 'y': 2 , 'z':1}\n",
    "d2 = {'w' : 8 , 't': 7 }\n",
    "d = {}\n",
    "\n",
    "d = d1.copy()\n",
    "d.update(d2)\n",
    "\n",
    "print(d)      # {'x': 3, 'y': 2, 'z': 1, 'w': 8, 't': 7}\n",
    "\n",
    "# or\n",
    "d = {**d1 , **d2} \n"
   ]
  },
  {
   "cell_type": "code",
   "execution_count": 56,
   "metadata": {},
   "outputs": [
    {
     "name": "stdout",
     "output_type": "stream",
     "text": [
      "{'a': 4, 'b': 8}\n"
     ]
    }
   ],
   "source": [
    "k = ['a' , 'b'] \n",
    "v = [4 , 8]\n",
    "\n",
    "z = zip(k,v)\n",
    "\n",
    "d = dict(z)     \n",
    "print(d)       # {'a': 4, 'b': 8}"
   ]
  },
  {
   "cell_type": "code",
   "execution_count": 58,
   "metadata": {},
   "outputs": [
    {
     "name": "stdout",
     "output_type": "stream",
     "text": [
      "------\n",
      "3\n",
      "0912-123456\n",
      "mahsa\n"
     ]
    }
   ],
   "source": [
    "### Nested dict\n",
    "\n",
    "myfamily = {\n",
    "        'child1': {'name':'taha'  , 'age' : 8}  ,      \n",
    "        'child2': {'name':'mahsa' , 'age' : 20}              \n",
    "        }\n",
    "\n",
    "print('------')\n",
    "\n",
    "p = {\n",
    "     'name'     : 'farshid', \n",
    "     'children' : ['mahsa', 'taha'],\n",
    "     'phone'    : {'home':'021-4455', 'mobile':'0912-123456'}\n",
    "    }\n",
    "\n",
    "print(len(p))                # 3\n",
    "\n",
    "print(p['phone']['mobile'])  # 0912-1972028\n",
    "\n",
    "print(p['children'][0])      # mahsa"
   ]
  },
  {
   "cell_type": "code",
   "execution_count": 59,
   "metadata": {},
   "outputs": [],
   "source": [
    "# \"\"\"\n",
    "#     Set :\n",
    "#         len , add, update , remove , discard , pop , copy , clear,\n",
    "#         intersection , union , difference , update , issubset , isdisjoint , ...\n",
    "# \"\"\""
   ]
  },
  {
   "cell_type": "code",
   "execution_count": 60,
   "metadata": {},
   "outputs": [
    {
     "name": "stdout",
     "output_type": "stream",
     "text": [
      "<class 'set'>\n",
      "4\n",
      "False\n",
      "{'u', 'o', 'a', 'e', 'i'}\n",
      "------\n",
      "{'u', 'o', 'a', 'e'}\n"
     ]
    }
   ],
   "source": [
    "S = {'a','e','o','i'}\n",
    "\n",
    "print(type(S))     # <class 'set'>\n",
    "\n",
    "print(len(S))      # 4\n",
    "\n",
    "print('u' in S)    # False\n",
    "\n",
    "S.add('u')\n",
    "print(S)           # {'i', 'u', 'e', 'a', 'o'}\n",
    "\n",
    "print('------')\n",
    "\n",
    "S.remove('i')\n",
    "print(S)           # {'u', 'e', 'a', 'o'}"
   ]
  },
  {
   "cell_type": "code",
   "execution_count": 61,
   "metadata": {},
   "outputs": [
    {
     "name": "stdout",
     "output_type": "stream",
     "text": [
      "{'u', 'o', 'e', 'a'}\n",
      "------\n",
      "set()\n",
      "0\n"
     ]
    }
   ],
   "source": [
    "c = S.copy()\n",
    "print(c)          # {'a', 'o', 'e', 'u'}\n",
    "\n",
    "print('------')\n",
    "\n",
    "S.clear()\n",
    "print(S)                   # set()\n",
    "print(len(S))               # 0"
   ]
  },
  {
   "cell_type": "code",
   "execution_count": 62,
   "metadata": {},
   "outputs": [
    {
     "name": "stdout",
     "output_type": "stream",
     "text": [
      "{2, 4}\n",
      "{2, 4}\n",
      "------\n",
      "{1, 2, 3, 4, 5}\n",
      "{1, 2, 3, 4, 5}\n",
      "------\n",
      "{1, 3, 5}\n",
      "{1, 3, 5}\n"
     ]
    }
   ],
   "source": [
    "X = {1, 2, 3 ,4 , 5}\n",
    "Y = {2, 4}\n",
    "\n",
    "print(X.intersection(Y))    # {2, 4}\n",
    "print(X & Y)                # {2, 4}\n",
    "\n",
    "print('------')\n",
    "\n",
    "print(X.union(Y))           # {1, 2, 3, 4 , 5}\n",
    "print(X | Y)                # {1, 2, 3, 4 , 5}\n",
    "\n",
    "print('------')\n",
    "\n",
    "print(X.difference(Y))      # {1, 3, 5}\n",
    "print(X-Y)                  # {1, 3, 5}"
   ]
  },
  {
   "cell_type": "code",
   "execution_count": 63,
   "metadata": {},
   "outputs": [
    {
     "name": "stdout",
     "output_type": "stream",
     "text": [
      "True\n"
     ]
    }
   ],
   "source": [
    "X = {'A', 'M'}\n",
    "Y = {'A','C','M','F'}\n",
    "print(X.issubset(Y))       # True"
   ]
  },
  {
   "cell_type": "markdown",
   "metadata": {},
   "source": [
    "# function"
   ]
  },
  {
   "cell_type": "code",
   "execution_count": 64,
   "metadata": {},
   "outputs": [
    {
     "name": "stdout",
     "output_type": "stream",
     "text": [
      "jack\n",
      "jack\n",
      "jack\n"
     ]
    }
   ],
   "source": [
    "def f():\n",
    "    print('jack')\n",
    "    \n",
    "f() \n",
    "#\n",
    "def g():\n",
    "    return 'jack'\n",
    "\n",
    "print(g())\n",
    "#\n",
    "def h(p):\n",
    "    print(p)\n",
    "\n",
    "h('jack')  "
   ]
  },
  {
   "cell_type": "code",
   "execution_count": 65,
   "metadata": {},
   "outputs": [
    {
     "name": "stdout",
     "output_type": "stream",
     "text": [
      "8\n"
     ]
    }
   ],
   "source": [
    "def f(x,y):\n",
    "    if x > y :\n",
    "        return x\n",
    "    return y\n",
    "\n",
    "def g(x,y,z):\n",
    "    return f(x , f(y,z))\n",
    "\n",
    "print(g(3,8,2))  # 8"
   ]
  },
  {
   "cell_type": "code",
   "execution_count": 66,
   "metadata": {},
   "outputs": [
    {
     "name": "stdout",
     "output_type": "stream",
     "text": [
      "7\n",
      "3\n",
      "3\n"
     ]
    }
   ],
   "source": [
    "x = 7\n",
    "def func():\n",
    "    global x\n",
    "    print(x)   # 7\n",
    "    x = 3\n",
    "    print(x)   # 3\n",
    "    \n",
    "func()    \n",
    "print(x)       # 3"
   ]
  },
  {
   "cell_type": "code",
   "execution_count": 67,
   "metadata": {},
   "outputs": [
    {
     "name": "stdout",
     "output_type": "stream",
     "text": [
      "8\n",
      "9\n"
     ]
    }
   ],
   "source": [
    "def f(a, b):\n",
    "    a *= 2\n",
    "    b += 3\n",
    "    return a, b\n",
    "\n",
    "x = 4\n",
    "y = 6\n",
    "m, n = f(x, y)\n",
    "print(m)        # 8\n",
    "print(n)        # 9"
   ]
  },
  {
   "cell_type": "code",
   "execution_count": 68,
   "metadata": {},
   "outputs": [
    {
     "name": "stdout",
     "output_type": "stream",
     "text": [
      "8\n",
      "3.0\n"
     ]
    }
   ],
   "source": [
    "def f(lst):\n",
    "    lst[0] *= 2\n",
    "    lst[1] /= 3\n",
    "    \n",
    "a = [4, 9] \n",
    "f(a)  \n",
    "print(a[0])    # 8\n",
    "print(a[1])    # 3.0"
   ]
  },
  {
   "cell_type": "code",
   "execution_count": 69,
   "metadata": {},
   "outputs": [
    {
     "name": "stdout",
     "output_type": "stream",
     "text": [
      "8\n",
      "3.0\n"
     ]
    }
   ],
   "source": [
    "def h(my_dict):\n",
    "    my_dict['x'] *= 2\n",
    "    my_dict['y'] /= 3\n",
    "        \n",
    "d = {'x':4  , 'y':9}    \n",
    "h(d)\n",
    "print(d['x'])    # 8\n",
    "print(d['y'])    # 3.0"
   ]
  },
  {
   "cell_type": "code",
   "execution_count": 70,
   "metadata": {},
   "outputs": [
    {
     "name": "stdout",
     "output_type": "stream",
     "text": [
      "5 2\n",
      "5 2\n",
      "5 2\n",
      "5 2\n"
     ]
    }
   ],
   "source": [
    "def test(x, y):\n",
    "    print(x, y)\n",
    "\n",
    "test(5, 2)           # 5 2\n",
    "test(x = 5 , y = 2)  # 5 2\n",
    "test(y = 2 , x = 5)  # 5 2\n",
    "test(5 , y = 2)      # 5 2"
   ]
  },
  {
   "cell_type": "markdown",
   "metadata": {},
   "source": [
    "# keyword only argument"
   ]
  },
  {
   "cell_type": "code",
   "execution_count": 71,
   "metadata": {},
   "outputs": [
    {
     "name": "stdout",
     "output_type": "stream",
     "text": [
      "8\n",
      "2\n"
     ]
    }
   ],
   "source": [
    "def f(*, x=8):\n",
    "    print(x)\n",
    "    \n",
    "f()        # 8\n",
    "f(x = 2)   # 2\n",
    "#f(3)     #  f() takes 0 positional arguments but 1 was given"
   ]
  },
  {
   "cell_type": "code",
   "execution_count": 72,
   "metadata": {},
   "outputs": [
    {
     "name": "stdout",
     "output_type": "stream",
     "text": [
      "34\n",
      "8\n"
     ]
    }
   ],
   "source": [
    "# var arguments\n",
    "\n",
    "def add_more(a, b, *c):\n",
    "    print(a + b + sum(c))\n",
    "\n",
    "add_more(5, 2, 7 , 8 , 12)   # 5+2+7+8+12=  \n",
    "add_more(2, 6)               # 8"
   ]
  },
  {
   "cell_type": "code",
   "execution_count": 73,
   "metadata": {},
   "outputs": [
    {
     "name": "stdout",
     "output_type": "stream",
     "text": [
      "ali.reza\n",
      "ali/reza/sara\n"
     ]
    }
   ],
   "source": [
    "def f(*x , y='.'):\n",
    "    return y.join(x)\n",
    "\n",
    "print(f('ali', 'reza'))                     # ali.reza\n",
    "print(f('ali', 'reza', 'sara', y='/'))      # ali/reza/sara"
   ]
  },
  {
   "cell_type": "code",
   "execution_count": 74,
   "metadata": {},
   "outputs": [
    {
     "name": "stdout",
     "output_type": "stream",
     "text": [
      "5 7 9\n",
      "1 4 9\n"
     ]
    }
   ],
   "source": [
    "def test(a ,*, b=7, c=9):\n",
    "    print(a,b,c)\n",
    "    \n",
    "test(5)         # 5  7  9\n",
    "test(1, b=4)    # 1  4  9\n",
    "\n",
    "# test(1, b=2, 6)    #  positional argument follows keyword argument\n",
    "\n",
    "# test(1, 3, c=4) "
   ]
  },
  {
   "cell_type": "code",
   "execution_count": 75,
   "metadata": {},
   "outputs": [
    {
     "name": "stdout",
     "output_type": "stream",
     "text": [
      "3\n",
      "4\n",
      "(7, 1, 6)\n",
      "{'x': 5, 'y': 7, 'z': 9}\n"
     ]
    }
   ],
   "source": [
    "\n",
    "def f(a, b , *c , **d):\n",
    "    print(a)  # 3\n",
    "    print(b)  # 4\n",
    "    print(c)  # (7, 1, 6)\n",
    "    print(d)  # {'x': 5, 'y': 7, 'z': 9}\n",
    "\n",
    "f(3, 4, 7, 1, 6, x=5, y=7, z=9) "
   ]
  },
  {
   "cell_type": "code",
   "execution_count": 76,
   "metadata": {},
   "outputs": [
    {
     "name": "stdout",
     "output_type": "stream",
     "text": [
      "{'a': 2, 'b': 3, 'c': 1, 'f': 1}\n"
     ]
    }
   ],
   "source": [
    "def count_char(s):\n",
    "    d = {}\n",
    "    for i in s:\n",
    "        if i in d.keys():\n",
    "            d[i] +=1\n",
    "        else:\n",
    "            d[i] = 1\n",
    "    return d\n",
    "\n",
    "print(count_char('abbcfab'))       # {'a': 2, 'b': 3, 'c': 1, 'f': 1}  \n"
   ]
  },
  {
   "cell_type": "code",
   "execution_count": 78,
   "metadata": {},
   "outputs": [],
   "source": [
    "# '''\n",
    "# switch(a){\n",
    "#    case 1: return 'one' ;break;\n",
    "#    case 2: return 'two' ;break;\n",
    "#    defualt :return 'nothing';\n",
    "# }\n",
    "# '''"
   ]
  },
  {
   "cell_type": "code",
   "execution_count": 79,
   "metadata": {},
   "outputs": [
    {
     "name": "stdout",
     "output_type": "stream",
     "text": [
      "one\n",
      "two\n",
      "nothing\n"
     ]
    }
   ],
   "source": [
    "def switch(a):\n",
    "    d = {1:'one' , 2 : 'two'}\n",
    "    return d.get(a,'nothing')\n",
    "\n",
    "print(switch(1))  # one\n",
    "print(switch(2))  # two\n",
    "print(switch(3))  # nothing\n",
    "   "
   ]
  },
  {
   "cell_type": "code",
   "execution_count": 80,
   "metadata": {},
   "outputs": [
    {
     "name": "stdout",
     "output_type": "stream",
     "text": [
      "[1, 2, 3, 4]\n"
     ]
    }
   ],
   "source": [
    "a = [1, 2, 3, 1, 4, 2]\n",
    "\n",
    "def unique_list(lst):\n",
    "    r = []\n",
    "    for i in lst:\n",
    "        if i not in r:\n",
    "            r.append(i)\n",
    "    return r            \n",
    "\n",
    "print(unique_list(a))              # [1, 2, 3, 4]\n",
    "    "
   ]
  },
  {
   "cell_type": "code",
   "execution_count": 81,
   "metadata": {},
   "outputs": [
    {
     "name": "stdout",
     "output_type": "stream",
     "text": [
      "[1, 2, 3, 4]\n"
     ]
    }
   ],
   "source": [
    "def unique_list_2(lst):\n",
    "   return list(set(lst))\n",
    "\n",
    "print(unique_list_2(a))            # [1, 2, 3, 4]\n"
   ]
  },
  {
   "cell_type": "code",
   "execution_count": 82,
   "metadata": {},
   "outputs": [
    {
     "name": "stdout",
     "output_type": "stream",
     "text": [
      "--- PEP 484 --------\n",
      "Hello jack\n"
     ]
    }
   ],
   "source": [
    "print('--- PEP 484 --------')\n",
    "\n",
    "def greeting(name: str) -> str:\n",
    "    return 'Hello ' + name\n",
    "\n",
    "print(greeting('jack'))         # Hello jack\n"
   ]
  },
  {
   "cell_type": "code",
   "execution_count": 83,
   "metadata": {},
   "outputs": [
    {
     "name": "stdout",
     "output_type": "stream",
     "text": [
      "5\n",
      "{'x': <class 'int'>, 'y': <class 'int'>, 'return': <class 'int'>}\n",
      "\n",
      "     sum two number\n",
      "    \n"
     ]
    }
   ],
   "source": [
    "def add(x:int, y:int) -> int:\n",
    "    '''\n",
    "     sum two number\n",
    "    '''\n",
    "    print(x+y)\n",
    "\n",
    "add(2, 3)  # 5\n",
    "   \n",
    "print(add.__annotations__)\n",
    "# {'x': <class 'int'>, 'y': <class 'int'>, 'return': <class 'int'>}\n",
    "\n",
    "print(add.__doc__)   # sum two number\n"
   ]
  },
  {
   "cell_type": "markdown",
   "metadata": {},
   "source": [
    "# recursive"
   ]
  },
  {
   "cell_type": "code",
   "execution_count": 84,
   "metadata": {},
   "outputs": [],
   "source": [
    "# '''\n",
    "# iterative:\n",
    "#             n! = 1*2*3*...*n\n",
    "            \n",
    "# recursive:\n",
    "#             n! = n * (n-1)!\n",
    "#             1! = 1\n",
    "\n",
    "# 4! = 4 * 3! = 4 * 6 = 24\n",
    "# 3! = 3 * 2! = 3 * 2 = 6\n",
    "# 2! = 2 * 1! = 2 * 1 = 2\n",
    "# 1! = 1\n",
    "\n",
    "# '''"
   ]
  },
  {
   "cell_type": "code",
   "execution_count": 85,
   "metadata": {},
   "outputs": [
    {
     "name": "stdout",
     "output_type": "stream",
     "text": [
      "24\n"
     ]
    }
   ],
   "source": [
    "def fact(n):\n",
    "    if n == 1:\n",
    "        return 1\n",
    "    else:\n",
    "        return n * fact(n-1)\n",
    "\n",
    "print(fact(4))     # 24\n"
   ]
  },
  {
   "cell_type": "code",
   "execution_count": 87,
   "metadata": {},
   "outputs": [
    {
     "name": "stdout",
     "output_type": "stream",
     "text": [
      "19\n",
      "1000\n"
     ]
    }
   ],
   "source": [
    "def f(n,base):\n",
    "     s = '0123456789ABCDEF'\n",
    "     if n < base:\n",
    "         return s[n]\n",
    "     else:\n",
    "         return f(n//base , base) + s[ n % base]\n",
    "\n",
    "print(f(25,16))       # 19\n",
    "# '''\n",
    "# f(25,16) = f(1,16) + s[9] = 1 + 9 = 19\n",
    "# f(1,16)  = s[1]  = 1\n",
    "\n",
    "# '''\n",
    "\n",
    "print(f(8,2))         # 1000"
   ]
  },
  {
   "cell_type": "code",
   "execution_count": 88,
   "metadata": {},
   "outputs": [
    {
     "name": "stdout",
     "output_type": "stream",
     "text": [
      "4\n",
      "1\n",
      "False\n"
     ]
    }
   ],
   "source": [
    "def binary_search(lst, x, start=0, end=None):\n",
    "    if end is None:\n",
    "        end = len(lst) - 1\n",
    "    if start > end:\n",
    "        return False\n",
    "    mid = (start + end) // 2\n",
    "    if x == lst[mid]:\n",
    "        return mid\n",
    "    if x < lst[mid]:\n",
    "        return binary_search(lst, x, start, mid - 1)\n",
    "    return binary_search(lst, x, mid + 1, end)\n",
    "\n",
    "a = [2, 4, 7, 12, 19, 25, 38]\n",
    "print(binary_search(a, 19 ))    # 4\n",
    "print(binary_search(a, 4 ))     # 1\n",
    "print(binary_search(a, 20))     # False"
   ]
  },
  {
   "cell_type": "markdown",
   "metadata": {},
   "source": [
    "# lambda"
   ]
  },
  {
   "cell_type": "code",
   "execution_count": 90,
   "metadata": {},
   "outputs": [
    {
     "name": "stdout",
     "output_type": "stream",
     "text": [
      "6\n",
      "-------------\n",
      "(9, 7)\n",
      "---map---\n",
      "['ali', 'reza']\n"
     ]
    }
   ],
   "source": [
    "add = lambda x, y : x * y \n",
    "print(add(2, 3))   # 6\n",
    "\n",
    "print('-------------')\n",
    "\n",
    "f = lambda x, y : (x + y , x - y)\n",
    "print(f(8, 1))                     # (9, 7)\n",
    "\n",
    "print('---map---')\n",
    "\n",
    "lst = ['ALI', 'REZA'] \n",
    "print(list(map(str.lower, lst)))     #['ali', 'reza']\n",
    "\n",
    "\n"
   ]
  },
  {
   "cell_type": "code",
   "execution_count": 91,
   "metadata": {},
   "outputs": [
    {
     "name": "stdout",
     "output_type": "stream",
     "text": [
      "[('mahsa', 20), ('sara', 16)]\n",
      "[('mahsa', 20), ('sara', 16)]\n"
     ]
    }
   ],
   "source": [
    "a = ['mahsa', 'sara']\n",
    "b = [20, 16]\n",
    "\n",
    "print(list(zip(a,b)))                # [('mahsa', 20), ('sara', 16)]\n",
    "\n",
    "print(list(map(lambda x, y : (x,y) , a , b))) \n"
   ]
  },
  {
   "cell_type": "code",
   "execution_count": 92,
   "metadata": {},
   "outputs": [
    {
     "name": "stdout",
     "output_type": "stream",
     "text": [
      "[3, 7]\n",
      "-------------\n",
      "[False, True, False, True]\n"
     ]
    }
   ],
   "source": [
    "a = [1, 3]\n",
    "b = [2, 4]\n",
    "print(list(map(lambda x, y :x+y, a, b)))   # [3, 7]\n",
    "\n",
    "print('-------------')\n",
    "\n",
    "a = [16, 7, 14, 6]\n",
    "print(list(map(lambda x : x < 10 , a)))    # [False, True, False, True]\n"
   ]
  },
  {
   "cell_type": "code",
   "execution_count": 93,
   "metadata": {},
   "outputs": [
    {
     "name": "stdout",
     "output_type": "stream",
     "text": [
      "[7, 6]\n",
      "-------------\n",
      "[12, 17, 6, 18]\n"
     ]
    }
   ],
   "source": [
    "a = [16, 7, 14, 6]\n",
    "print(list(filter(lambda x : x < 10 , a)))  # [7, 6]\n",
    "\n",
    "print('-------------')\n",
    "\n",
    "a = [12, 17, '', 6,'' , 18]\n",
    "print(list(filter(None,a)))       # [12, 17, 6, 18]\n"
   ]
  },
  {
   "cell_type": "markdown",
   "metadata": {},
   "source": [
    "# reduce"
   ]
  },
  {
   "cell_type": "code",
   "execution_count": 94,
   "metadata": {},
   "outputs": [
    {
     "name": "stdout",
     "output_type": "stream",
     "text": [
      "53\n"
     ]
    }
   ],
   "source": [
    "from functools import reduce\n",
    "\n",
    "lis = [12, 17, 6, 18]\n",
    "add = lambda a,b : a+b\n",
    "\n",
    "print(reduce(add, lis))        # 53   : (((12+17)+6)+18)\n"
   ]
  },
  {
   "cell_type": "markdown",
   "metadata": {},
   "source": [
    "# sorted"
   ]
  },
  {
   "cell_type": "code",
   "execution_count": 95,
   "metadata": {},
   "outputs": [
    {
     "name": "stdout",
     "output_type": "stream",
     "text": [
      "[6, 12, 17, 18]\n",
      "-------------\n",
      "[('taha', 6), ('ali', 12), ('sara', 17), ('mahsa', 18)]\n"
     ]
    }
   ],
   "source": [
    "lst = [12, 17, 6, 18]\n",
    "print(sorted(lst))             # [6, 12, 17, 18]\n",
    "\n",
    "print('-------------')\n",
    "\n",
    "d = {'ali' : 12, 'sara' : 17, 'taha' : 6 , 'mahsa' : 18}\n",
    "print(sorted(d.items() , key = lambda x : x[1]))\n",
    "\n",
    "# [('taha', 6), ('ali', 12), ('sara', 17), ('mahsa', 18)]"
   ]
  },
  {
   "cell_type": "code",
   "execution_count": null,
   "metadata": {},
   "outputs": [],
   "source": []
  }
 ],
 "metadata": {
  "language_info": {
   "name": "python"
  }
 },
 "nbformat": 4,
 "nbformat_minor": 2
}
