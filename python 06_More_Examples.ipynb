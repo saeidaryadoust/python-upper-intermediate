{
 "cells": [
  {
   "cell_type": "code",
   "execution_count": 1,
   "metadata": {},
   "outputs": [
    {
     "name": "stdout",
     "output_type": "stream",
     "text": [
      "Hello Sara\n",
      "Sara\n",
      "Goodbye Sara\n"
     ]
    }
   ],
   "source": [
    "class Life:\n",
    "    def __init__(self, name='unknown'):\n",
    "        print('Hello ' + name)\n",
    "        self.name = name\n",
    "        \n",
    "    def live(self):\n",
    "        print(self.name)\n",
    "        \n",
    "    def __del__(self):\n",
    "        print('Goodbye ' + self.name)    \n",
    "\n",
    "ob = Life('Sara')                         # Hello Sara\n",
    "ob.live()                                 # Sara\n",
    "ob = 'Ali'                                # Goodbye Sara"
   ]
  },
  {
   "cell_type": "code",
   "execution_count": 2,
   "metadata": {},
   "outputs": [
    {
     "name": "stdout",
     "output_type": "stream",
     "text": [
      "6\n",
      "6\n"
     ]
    }
   ],
   "source": [
    "\n",
    "class C:\n",
    "    def __init__(self, a):\n",
    "        self.a = a\n",
    "              \n",
    "    def f(self, x, y): \n",
    "        return( self.a + x + y)\n",
    "\n",
    "ob = C(1)\n",
    "print(ob.f(2, 3))                         # 1+2+3 =6\n",
    "print(C.f(ob, 2, 3))                      # 6\n"
   ]
  },
  {
   "cell_type": "code",
   "execution_count": 3,
   "metadata": {},
   "outputs": [
    {
     "name": "stdout",
     "output_type": "stream",
     "text": [
      "3\n",
      "0\n"
     ]
    }
   ],
   "source": [
    "def add(obj, k):\n",
    "    obj.t += 1\n",
    "    k += 1\n",
    "    \n",
    "class A:\n",
    "    def __init__(self):\n",
    "        self.t = 1\n",
    "        \n",
    "def main():\n",
    "    ob = A()\n",
    "    k = 0 \n",
    "    add(ob,k)\n",
    "    add(ob,k)    \n",
    "    print(ob.t)                       \n",
    "    print(k)                          \n",
    "    \n",
    "main()                                      #3  0 "
   ]
  },
  {
   "cell_type": "code",
   "execution_count": 4,
   "metadata": {},
   "outputs": [
    {
     "name": "stdout",
     "output_type": "stream",
     "text": [
      "1.0\n"
     ]
    }
   ],
   "source": [
    "import math\n",
    "class Point:\n",
    "    def __init__(self, x, y):       \n",
    "        self.x = x\n",
    "        self.y = y\n",
    "\n",
    "    def dist(self, pt):        \n",
    "        a = pt.x - self.x\n",
    "        b = pt.y - self.y\n",
    "        return math.sqrt(a ** 2 + b ** 2)\n",
    "    \n",
    "p1 = Point(2, 3)\n",
    "p2 = Point(3, 3)\n",
    "print(p1.dist(p2) )                         # 1.0\n"
   ]
  },
  {
   "cell_type": "code",
   "execution_count": 5,
   "metadata": {},
   "outputs": [
    {
     "name": "stdout",
     "output_type": "stream",
     "text": [
      "{'id': 100}\n",
      "{'id': 100, 'age': 35}\n",
      "2\n"
     ]
    }
   ],
   "source": [
    "class Person:\n",
    "    def __init__(self, id):\n",
    "        self.id = id\n",
    "\n",
    "ali = Person(100)\n",
    "print (ali.__dict__)                        # {'id':100}\n",
    "ali.__dict__['age'] = 35\n",
    "print (ali.__dict__)                        # {'id':100 ,'age':35}\n",
    "print (len(ali.__dict__))                   # 2\n"
   ]
  },
  {
   "cell_type": "code",
   "execution_count": 6,
   "metadata": {},
   "outputs": [
    {
     "name": "stdout",
     "output_type": "stream",
     "text": [
      "1\n",
      "2\n",
      "3\n"
     ]
    }
   ],
   "source": [
    "class B:    \n",
    "    def __init__(self,a,b,c):\n",
    "        self.a = a\n",
    "        self._b = b   \n",
    "        self.__c = c  \n",
    "              \n",
    "    def f(self):         \n",
    "        print(self.a)  \n",
    "        print(self._b)  \n",
    "        print(self.__c)  \n",
    "        \n",
    "ob = B(1, 2, 3)        \n",
    "print(ob.a)                                # 1   \n",
    "print(ob._b)                               # 2\n",
    "print(ob._B__c)                            # 3\n"
   ]
  },
  {
   "cell_type": "code",
   "execution_count": 7,
   "metadata": {},
   "outputs": [
    {
     "name": "stdout",
     "output_type": "stream",
     "text": [
      "python\n"
     ]
    }
   ],
   "source": [
    "def formatting(lowerscase=False):\n",
    "     def d(func):\n",
    "         def w(text=''):\n",
    "             if lowerscase:\n",
    "                 func(text.lower())\n",
    "             else:\n",
    "                 func(text.upper())\n",
    "         return w\n",
    "     return d\n",
    "\n",
    "@formatting(lowerscase=True)\n",
    "def f(s):\n",
    "    print(s)\n",
    "\n",
    "f(\"Python\")                                  # python\n"
   ]
  },
  {
   "cell_type": "code",
   "execution_count": 8,
   "metadata": {},
   "outputs": [
    {
     "name": "stdout",
     "output_type": "stream",
     "text": [
      "5-8-6\n"
     ]
    }
   ],
   "source": [
    "class B:\n",
    "   def __init__(self, s):\n",
    "     self.s = s\n",
    "     \n",
    "   @classmethod\n",
    "   def f(cls, lst):\n",
    "     x = cls('')\n",
    "     x.s = '-'.join(str(i) for i in lst)\n",
    "     return x\n",
    " \n",
    "   def __str__(self):\n",
    "     return self.s\n",
    "\n",
    "a = ['5','8','6']\n",
    "ob = B.f(a)\n",
    "print(ob)                                     # 5-8-6  \n"
   ]
  },
  {
   "cell_type": "code",
   "execution_count": 9,
   "metadata": {},
   "outputs": [
    {
     "name": "stdout",
     "output_type": "stream",
     "text": [
      "['Mrs', 'Ms']\n"
     ]
    }
   ],
   "source": [
    "class Person:\n",
    "    TITLES = ('Mr', 'Mrs', 'Ms')\n",
    "\n",
    "    @classmethod\n",
    "    def f(cls, a):  \n",
    "        return [t for t in cls.TITLES if t.endswith(a)]\n",
    "\n",
    "ob = Person()   \n",
    "print(ob.f(\"s\"))                              # ['Mrs', 'Ms']  \n"
   ]
  },
  {
   "cell_type": "code",
   "execution_count": 10,
   "metadata": {},
   "outputs": [
    {
     "name": "stdout",
     "output_type": "stream",
     "text": [
      "[<__main__.C object at 0x00000236A8B9D8E0>, 5]\n",
      "4\n",
      "[<class '__main__.C'>, 3]\n"
     ]
    }
   ],
   "source": [
    "class C:\n",
    "    def f(self, x): \n",
    "        print([self, x])\n",
    "        \n",
    "    def s(x): \n",
    "        print(x+3)\n",
    "        \n",
    "    def h(cls, x): \n",
    "        print([cls, x])\n",
    "        \n",
    "    s = staticmethod(s) \n",
    "    h = classmethod(h) \n",
    "\n",
    "obj = C() \n",
    "obj.f(5)                             # [<__main__.C object at ...>, 5]\n",
    "C.s(1)                               # 4\n",
    "C.h(3)                               # [<class '__main__.C'>, 3]\n"
   ]
  },
  {
   "cell_type": "code",
   "execution_count": 11,
   "metadata": {},
   "outputs": [
    {
     "name": "stdout",
     "output_type": "stream",
     "text": [
      "2\n"
     ]
    }
   ],
   "source": [
    "\n",
    "class C:\n",
    "    n = 0          \n",
    "    def __init__(self):\n",
    "        C.n += 1\n",
    "        \n",
    "    def p():\n",
    "        print(C.n)\n",
    "       \n",
    "a = C()\n",
    "b = C()\n",
    "C.p()                                       # 2\n"
   ]
  },
  {
   "cell_type": "code",
   "execution_count": 12,
   "metadata": {},
   "outputs": [
    {
     "name": "stdout",
     "output_type": "stream",
     "text": [
      "5\n"
     ]
    }
   ],
   "source": [
    "class C: \n",
    "    x = 2 \n",
    "\n",
    "ob = C()\n",
    "k = lambda: ob.x + 3\n",
    "print(k())                                  # 5\n"
   ]
  },
  {
   "cell_type": "code",
   "execution_count": 13,
   "metadata": {},
   "outputs": [
    {
     "name": "stdout",
     "output_type": "stream",
     "text": [
      "<class '__main__.C'>\n",
      "True\n",
      "(<class 'object'>,)\n"
     ]
    }
   ],
   "source": [
    "class C: \n",
    "    pass\n",
    "\n",
    "ob = C()\n",
    "print(ob.__class__)                          # <class '__main__.C'>\n",
    "print(isinstance(ob, C))                     # True\n",
    "print(C.__bases__)                           # (<class 'object'>,)\n"
   ]
  },
  {
   "cell_type": "code",
   "execution_count": 14,
   "metadata": {},
   "outputs": [
    {
     "name": "stdout",
     "output_type": "stream",
     "text": [
      "Ali\n",
      "Farshid\n"
     ]
    }
   ],
   "source": [
    "class Department:\n",
    "    def __init__( self ):\n",
    "        self.lst = []\n",
    "        \n",
    "    def f( self, s ):\n",
    "       self.lst.append(s)\n",
    "       \n",
    "class Student:\n",
    "    def __init__( self, name ):\n",
    "        self.name = name    \n",
    "\n",
    "d = Department()\n",
    "d.f(Student(\"Ali\"))\n",
    "d.f(Student(\"Farshid\"))        \n",
    "\n",
    "for s in d.lst:\n",
    "    print( \"%s\" % (s.name))                     #Ali  Farshid\n",
    "    "
   ]
  },
  {
   "cell_type": "code",
   "execution_count": 15,
   "metadata": {},
   "outputs": [
    {
     "name": "stdout",
     "output_type": "stream",
     "text": [
      "2\n",
      "5\n"
     ]
    }
   ],
   "source": [
    "class C:\n",
    "    def __init__(self):\n",
    "        self.a = 5\n",
    "          \n",
    "class E:\n",
    "    def __init__(self, x, y=None):\n",
    "        self.x = x\n",
    "        self.y = y\n",
    "        \n",
    "        \n",
    "ob = E(2,C())\n",
    "print(ob.x)                                    # 2\n",
    "print(ob.y.a)                                  # 5\n"
   ]
  },
  {
   "cell_type": "code",
   "execution_count": 16,
   "metadata": {},
   "outputs": [
    {
     "name": "stdout",
     "output_type": "stream",
     "text": [
      "F\n",
      "4\n",
      "G\n"
     ]
    }
   ],
   "source": [
    "class C:\n",
    "     x = 4\n",
    "     def f(self):\n",
    "         print(\"F\")\n",
    "    \n",
    "     @property\n",
    "     def g(self):        # can be called as attribute only\n",
    "         return(\"G\")\n",
    "\n",
    "ob = C()\n",
    "ob.f()                                         # F\n",
    "print(ob.x)                                    # 4\n",
    "print(ob.g)                                    # G\n",
    "#print(ob.g())                                 # Error\n"
   ]
  },
  {
   "cell_type": "code",
   "execution_count": 17,
   "metadata": {},
   "outputs": [
    {
     "name": "stdout",
     "output_type": "stream",
     "text": [
      "0\n",
      "5\n"
     ]
    }
   ],
   "source": [
    "## An instance can be used as function if the class method \n",
    "## contains __call__ method.\n",
    "\n",
    "class C:\n",
    "     def __init__(self, n=0):\n",
    "         self.n = n\n",
    "    \n",
    "     def __call__(self, n):\n",
    "        self.n = n\n",
    "\n",
    "ob = C()\n",
    "print(ob.n)                                       # 0\n",
    "ob(5)   \n",
    "print(ob.n)                                       # 5\n",
    "\n"
   ]
  },
  {
   "cell_type": "code",
   "execution_count": 18,
   "metadata": {},
   "outputs": [
    {
     "name": "stdout",
     "output_type": "stream",
     "text": [
      "1\n",
      "2\n",
      "2\n",
      "--------\n",
      "[] []\n",
      "['a'] ['a']\n",
      "['a'] []\n"
     ]
    }
   ],
   "source": [
    "## Changing Class Attributes Can Have Side Effects\n",
    "class C:\n",
    "    a = 1                                # Class attribute\n",
    "    \n",
    "ob1 = C()\n",
    "print(ob1.a)                                      # 1\n",
    "\n",
    "C.a = 2\n",
    "print(ob1.a)                                      # 2\n",
    "\n",
    "ob2 = C()\n",
    "print(ob2.a)                                      # 2\n",
    "\n",
    "print('--------')\n",
    "##Changing Mutable Class Attributes Can Have Side Effects.\n",
    "class C:\n",
    "    s = []                            # Class attribute\n",
    "    def __init__(self):\n",
    "        self.p = []                   # Instance attribute\n",
    "        \n",
    "x = C() \n",
    "y = C() \n",
    "print(y.s, y.p)                               #[]  []\n",
    "x.s.append('a')  \n",
    "x.p.append('a') \n",
    "print(x.s, x.p)                               #['a']   ['a']\n",
    "print(y.s, y.p)                               #['a']   []\n"
   ]
  },
  {
   "cell_type": "code",
   "execution_count": 19,
   "metadata": {},
   "outputs": [
    {
     "name": "stdout",
     "output_type": "stream",
     "text": [
      "3\n"
     ]
    }
   ],
   "source": [
    "def f():\n",
    "    class C: \n",
    "        a = 1\n",
    "        def m(self):\n",
    "            C.a += 2\n",
    "            return(C.a) \n",
    "    return C()\n",
    "\n",
    "print(f().m())                                # 3\n"
   ]
  },
  {
   "cell_type": "code",
   "execution_count": 20,
   "metadata": {},
   "outputs": [
    {
     "name": "stdout",
     "output_type": "stream",
     "text": [
      "1\n"
     ]
    }
   ],
   "source": [
    "class C: \n",
    "    a = 1\n",
    "    def m(self):\n",
    "        print(C.a)   \n",
    "        \n",
    "def f():\n",
    "    return C()\n",
    "\n",
    "f().m()                                       # 1\n"
   ]
  },
  {
   "cell_type": "code",
   "execution_count": 21,
   "metadata": {},
   "outputs": [
    {
     "name": "stdout",
     "output_type": "stream",
     "text": [
      "1\n",
      "3\n",
      "2\n",
      "alireza\n"
     ]
    }
   ],
   "source": [
    "\n",
    "def d(func): \n",
    "    def f(*args):\n",
    "        f.c += 1\n",
    "        print(f.c)\n",
    "        return func(*args)\n",
    "    f.c = 0\n",
    "    return f\n",
    "\n",
    "class C:\n",
    "    @d\n",
    "    def g(self,a, b): \n",
    "        return a + b \n",
    "    \n",
    "ob = C()\n",
    "print(ob.g(1, 2))                             # 1  3          \n",
    "print(ob.g('ali', 'reza'))                    # 2  alireza\n",
    " "
   ]
  },
  {
   "cell_type": "code",
   "execution_count": 22,
   "metadata": {},
   "outputs": [
    {
     "name": "stdout",
     "output_type": "stream",
     "text": [
      "1\n",
      "3\n",
      "2\n",
      "alireza\n"
     ]
    }
   ],
   "source": [
    "class T:\n",
    "    def __init__(self, func): \n",
    "        self.c = 0\n",
    "        self.func = func\n",
    "        \n",
    "    def __call__(self, *args): \n",
    "        self.c += 1\n",
    "        print(self.c)\n",
    "        return self.func(*args)\n",
    "\n",
    "@T \n",
    "def g(a, b): \n",
    "    return(a + b)\n",
    "\n",
    "print(g(1, 2))                                  # 1  3\n",
    "print(g('ali', 'reza'))                         # 2  alireza\n"
   ]
  },
  {
   "cell_type": "code",
   "execution_count": 23,
   "metadata": {},
   "outputs": [
    {
     "name": "stdout",
     "output_type": "stream",
     "text": [
      "XYs\n"
     ]
    }
   ],
   "source": [
    "# Decorator Nesting\n",
    "def d1(F): \n",
    "    return (lambda: 'X' + F())\n",
    "\n",
    "def d2(F): \n",
    "    return (lambda: 'Y' + F())\n",
    "\n",
    "@d1\n",
    "@d2\n",
    "def func():                                     # func = d1(d2(func)) \n",
    "    return 's'\n",
    "\n",
    "print(func())                                   # XYs\n"
   ]
  },
  {
   "cell_type": "code",
   "execution_count": 24,
   "metadata": {},
   "outputs": [
    {
     "name": "stdout",
     "output_type": "stream",
     "text": [
      "1\n",
      "4\n",
      "9\n"
     ]
    }
   ],
   "source": [
    "class Squares: \n",
    "    def __init__(self, start, stop): \n",
    "        self.start = start\n",
    "        self.stop = stop\n",
    "        \n",
    "    def __iter__(self):\n",
    "        for v in range(self.start, self.stop + 1):\n",
    "            yield v ** 2\n",
    "\n",
    "for i in Squares(1, 3): \n",
    "    print(i)                                    # 1  4  9     \n"
   ]
  },
  {
   "cell_type": "code",
   "execution_count": 25,
   "metadata": {},
   "outputs": [
    {
     "name": "stdout",
     "output_type": "stream",
     "text": [
      "2\n",
      "1\n",
      "sara\n",
      "3\n"
     ]
    }
   ],
   "source": [
    "class C:\n",
    "    def f(self):\n",
    "        print(\"1\")\n",
    "        return self._a\n",
    "    \n",
    "    def g(self, value):\n",
    "        print(\"2\")\n",
    "        self._a = value\n",
    "        \n",
    "    def h(self):\n",
    "        print(\"3\")\n",
    "        del self._a\n",
    "        \n",
    "    a = property(f, g, h)\n",
    "    \n",
    "ob = C()\n",
    "ob.a = \"sara\"                                  # 2 \n",
    "print(ob.a)                                    # 1  sara\n",
    "del ob.a                                       # 3\n"
   ]
  },
  {
   "cell_type": "code",
   "execution_count": 26,
   "metadata": {},
   "outputs": [
    {
     "name": "stdout",
     "output_type": "stream",
     "text": [
      "jj\n",
      "jj\n"
     ]
    }
   ],
   "source": [
    "# Methods Are Objects\n",
    "class C:\n",
    "    def f(self, message):\n",
    "        print(message)\n",
    "        \n",
    "ob = C()\n",
    "g = ob.f \n",
    "g('jj')                                  # jj\n",
    "\n",
    "h = C.f \n",
    "h(ob, 'jj')                              # jj\n"
   ]
  },
  {
   "cell_type": "code",
   "execution_count": 27,
   "metadata": {},
   "outputs": [
    {
     "name": "stdout",
     "output_type": "stream",
     "text": [
      "5\n"
     ]
    }
   ],
   "source": [
    "class C:\n",
    "    def f(self, n):\n",
    "        print(n)\n",
    "        \n",
    "    def g(self):\n",
    "        x = self.f \n",
    "        x(5) \n",
    "    \n",
    "C().g()                                        # 5\n"
   ]
  },
  {
   "cell_type": "code",
   "execution_count": 28,
   "metadata": {},
   "outputs": [
    {
     "name": "stdout",
     "output_type": "stream",
     "text": [
      "1\n",
      "5 K\n",
      "8 None\n"
     ]
    }
   ],
   "source": [
    "##Classes Are Objects\n",
    "\n",
    "def f(klass, *pargs, **kargs): \n",
    "    return klass(*pargs, **kargs) \n",
    "\n",
    "class C:\n",
    "   def doit(self, m):\n",
    "      print(m)\n",
    "\n",
    "class P:\n",
    "    def __init__(self, n, j=None):\n",
    "        self.n = n\n",
    "        self.j = j\n",
    "\n",
    "ob = f(C) \n",
    "ob.doit(1)                                        # 1\n",
    "\n",
    "y = f(P, 5, \"K\") \n",
    "print(y.n, y.j)                                   # 5  K\n",
    "\n",
    "z = f(P, n=8) \n",
    "print(z.n, z.j)                                   # 8  None\n"
   ]
  },
  {
   "cell_type": "code",
   "execution_count": 29,
   "metadata": {},
   "outputs": [
    {
     "name": "stdout",
     "output_type": "stream",
     "text": [
      "True\n"
     ]
    }
   ],
   "source": [
    "class C:\n",
    "    def __init__(self, x=2, y=3):\n",
    "        self.x = x\n",
    "        self.y = y\n",
    "\n",
    "    def __str__(self):\n",
    "        return \"A\"\n",
    "\n",
    "    def __eq__(self, o ):\n",
    "        return self.x * self.y == o.x * o.y\n",
    "\n",
    "def main():\n",
    "    a = C(1, 4)\n",
    "    b = C(2, 2)\n",
    "    print(a == b)                                   # True\n",
    "\n",
    "main()  \n",
    "\n"
   ]
  },
  {
   "cell_type": "code",
   "execution_count": 30,
   "metadata": {},
   "outputs": [
    {
     "name": "stdout",
     "output_type": "stream",
     "text": [
      "True\n",
      "True\n"
     ]
    }
   ],
   "source": [
    "class C:\n",
    "    data = 'b'\n",
    "    \n",
    "    def __gt__(self, other): \n",
    "        return self.data > other\n",
    "    \n",
    "    def __lt__(self, other):\n",
    "        return self.data < other\n",
    "    \n",
    "ob = C()\n",
    "print( ob < 'd')                                     # True\n",
    "print( ob > 'a')                                     # True \n"
   ]
  },
  {
   "cell_type": "code",
   "execution_count": null,
   "metadata": {},
   "outputs": [],
   "source": []
  }
 ],
 "metadata": {
  "kernelspec": {
   "display_name": "Python 3",
   "language": "python",
   "name": "python3"
  },
  "language_info": {
   "codemirror_mode": {
    "name": "ipython",
    "version": 3
   },
   "file_extension": ".py",
   "mimetype": "text/x-python",
   "name": "python",
   "nbconvert_exporter": "python",
   "pygments_lexer": "ipython3",
   "version": "3.12.2"
  }
 },
 "nbformat": 4,
 "nbformat_minor": 2
}
