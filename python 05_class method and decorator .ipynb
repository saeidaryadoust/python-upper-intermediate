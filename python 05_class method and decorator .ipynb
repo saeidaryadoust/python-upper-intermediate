{
 "cells": [
  {
   "cell_type": "markdown",
   "metadata": {},
   "source": [
    "# decorator"
   ]
  },
  {
   "cell_type": "code",
   "execution_count": 2,
   "metadata": {},
   "outputs": [
    {
     "name": "stdout",
     "output_type": "stream",
     "text": [
      "before\n",
      "hello\n",
      "after\n"
     ]
    }
   ],
   "source": [
    "def d(func):\n",
    "    def wrapper():\n",
    "        print('before')\n",
    "        func()\n",
    "        print('after')\n",
    "    return wrapper\n",
    "\n",
    "def f():\n",
    "    print('hello')\n",
    "\n",
    "x = d(f)  \n",
    "x()      # before hello after"
   ]
  },
  {
   "cell_type": "code",
   "execution_count": 3,
   "metadata": {},
   "outputs": [
    {
     "name": "stdout",
     "output_type": "stream",
     "text": [
      "before\n",
      "hello\n",
      "after\n"
     ]
    }
   ],
   "source": [
    "def d(func):\n",
    "    def wrapper():\n",
    "        print('before')\n",
    "        func()\n",
    "        print('after')\n",
    "    return wrapper\n",
    "\n",
    "@d\n",
    "def f():\n",
    "    print('hello')\n",
    "\n",
    "\n",
    "f()      # before hello after\n"
   ]
  },
  {
   "cell_type": "code",
   "execution_count": 4,
   "metadata": {},
   "outputs": [
    {
     "name": "stdout",
     "output_type": "stream",
     "text": [
      "before\n",
      "python\n",
      "python\n",
      "after\n"
     ]
    }
   ],
   "source": [
    "def d(func):\n",
    "    def wrapper():\n",
    "        print('before')\n",
    "        func()\n",
    "        func()\n",
    "        print('after')\n",
    "    return wrapper\n",
    "\n",
    "@d\n",
    "def f():\n",
    "    print('python')\n",
    "\n",
    "\n",
    "f()      # before  python python  after"
   ]
  },
  {
   "cell_type": "code",
   "execution_count": 5,
   "metadata": {},
   "outputs": [
    {
     "name": "stdout",
     "output_type": "stream",
     "text": [
      "8\n"
     ]
    }
   ],
   "source": [
    "\n",
    "def d(func):\n",
    "    def w(a):\n",
    "        func(a + 3)\n",
    "    return w\n",
    "        \n",
    "@d\n",
    "def g(x):\n",
    "    print(x)\n",
    "\n",
    "g(5)  # 8\n"
   ]
  },
  {
   "cell_type": "markdown",
   "metadata": {},
   "source": [
    "# instance method , class method , static method"
   ]
  },
  {
   "cell_type": "code",
   "execution_count": 6,
   "metadata": {},
   "outputs": [
    {
     "name": "stdout",
     "output_type": "stream",
     "text": [
      "1\n",
      "1\n",
      "6\n"
     ]
    }
   ],
   "source": [
    "class C:\n",
    "    def __init__(self, a):\n",
    "           self.a = a\n",
    "           \n",
    "    def f(self, i):\n",
    "        print(self.a)\n",
    "        return (i+3)\n",
    "\n",
    "ob = C(1) \n",
    "print(ob.a)       # 1\n",
    "print(ob.f(3))    # 1  6\n",
    "\n",
    "# print(C.a)       # error\n",
    "# print(C.f(3))    # error"
   ]
  },
  {
   "cell_type": "code",
   "execution_count": 7,
   "metadata": {},
   "outputs": [
    {
     "name": "stdout",
     "output_type": "stream",
     "text": [
      "5\n",
      "8\n",
      "5\n",
      "True\n"
     ]
    }
   ],
   "source": [
    "class A :\n",
    "    def __init__(self, x):\n",
    "        self.x = x\n",
    "        print(self.x)\n",
    "\n",
    "    @staticmethod\n",
    "    def func_sum(m, n): #self is not defined in static method\n",
    "        print(m + n)   \n",
    "        # print(self.x)  error\n",
    "\n",
    "A.func_sum(2, 3)   # 5\n",
    "\n",
    "ob = A(8)         # 8\n",
    "ob.func_sum(2, 3) # 5\n",
    "\n",
    "print(A.func_sum == ob.func_sum )  # True"
   ]
  },
  {
   "cell_type": "code",
   "execution_count": 8,
   "metadata": {},
   "outputs": [
    {
     "name": "stdout",
     "output_type": "stream",
     "text": [
      "4\n",
      "4\n",
      "True\n",
      "17\n",
      "15\n"
     ]
    }
   ],
   "source": [
    "class D :\n",
    "    def __init__(self, x):\n",
    "        self.x = x\n",
    "    \n",
    "    @classmethod\n",
    "    def h(cls, t):\n",
    "        print(t + 2)   \n",
    "        return cls(t)\n",
    "        \n",
    "ob = D(0)\n",
    "ob.h(2)    # 4\n",
    "D.h(2)     # 4\n",
    "\n",
    "print(D.h == ob.h )  # True\n",
    "\n",
    "print(ob.h(15).x)   # 17  15"
   ]
  },
  {
   "cell_type": "code",
   "execution_count": 9,
   "metadata": {},
   "outputs": [
    {
     "name": "stdout",
     "output_type": "stream",
     "text": [
      "52\n",
      "farshid\n",
      "True\n"
     ]
    }
   ],
   "source": [
    "from datetime import date\n",
    "class C:\n",
    "    def __init__(self,name, age):\n",
    "        self.name = name\n",
    "        self.age = age\n",
    "    \n",
    "    @classmethod        \n",
    "    def f(cls,name, year):\n",
    "        y = date.today().year - year\n",
    "        return cls(name, y)\n",
    "     \n",
    "    @staticmethod\n",
    "    def s(age):\n",
    "        return age < 50\n",
    "        \n",
    "ob = C.f('farshid',1972)\n",
    "print(ob.age)                 # 48\n",
    "print(ob.name)                # farshid\n",
    "\n",
    "print(ob.s(48))               # True"
   ]
  },
  {
   "cell_type": "code",
   "execution_count": 10,
   "metadata": {},
   "outputs": [
    {
     "name": "stdout",
     "output_type": "stream",
     "text": [
      "2020\n",
      "9\n",
      "11\n",
      "True\n",
      "False\n"
     ]
    }
   ],
   "source": [
    "class Date:\n",
    "    def __init__(self, day=0 , month=0, year=0):\n",
    "        self.day = day\n",
    "        self.month = month\n",
    "        self.year = year\n",
    "        \n",
    "    @classmethod\n",
    "    def f(cls,d):\n",
    "        day, month, year = map(int, d.split('-'))\n",
    "        return cls(day,month,year)\n",
    "        \n",
    "    @staticmethod\n",
    "    def g(d):\n",
    "        day, month, year = map(int, d.split('-'))\n",
    "        return day <= 31  and month <= 12\n",
    "\n",
    "        \n",
    "d = Date.f('11-09-2020')        \n",
    "print(d.year)             # 2020\n",
    "print(d.month)            # 9\n",
    "print(d.day)              # 11\n",
    "\n",
    "\n",
    "v = Date.g('11-09-2020')\n",
    "print(v)                  # True\n",
    "\n",
    "v = Date.g('11-40-2020')\n",
    "print(v)                  # False"
   ]
  },
  {
   "cell_type": "code",
   "execution_count": 13,
   "metadata": {},
   "outputs": [
    {
     "name": "stdout",
     "output_type": "stream",
     "text": [
      "sara rasti\n",
      "sara\n",
      "jj\n"
     ]
    }
   ],
   "source": [
    "class Person:\n",
    "    def __init__(self, name, family):\n",
    "        self.name = name\n",
    "        self.family = family\n",
    "    \n",
    "    @property\n",
    "    def f(self):\n",
    "        return \"%s %s\" %(self.name , self.family)\n",
    "    \n",
    "    @f.setter\n",
    "    def f(self, s):\n",
    "        name , family = s.split(' ')\n",
    "        self.name = name\n",
    "        self.family = family\n",
    "\n",
    "ob = Person('sara','rasti')        \n",
    "print(ob.f)                 # sara rasti\n",
    "\n",
    "ob.f= 'sara jj'\n",
    "print(ob.name)            # sara\n",
    "print(ob.family)          # jj"
   ]
  },
  {
   "cell_type": "code",
   "execution_count": 14,
   "metadata": {},
   "outputs": [
    {
     "name": "stdout",
     "output_type": "stream",
     "text": [
      "Test\n"
     ]
    }
   ],
   "source": [
    "class Test:\n",
    "     def f(k):\n",
    "         return k.__name__\n",
    "     f = classmethod(f)\n",
    "    \n",
    "print(Test.f())      # Test"
   ]
  },
  {
   "cell_type": "code",
   "execution_count": 15,
   "metadata": {},
   "outputs": [
    {
     "name": "stdout",
     "output_type": "stream",
     "text": [
      "5\n",
      "12\n",
      "-1\n",
      "(2, 3)\n",
      "(6, 8)\n"
     ]
    }
   ],
   "source": [
    "\n",
    "class  Numbers:\n",
    "    a = 3\n",
    "    \n",
    "    def __init__(self,x, y):\n",
    "        self.x = x\n",
    "        self.y = y\n",
    "    \n",
    "    def add(self):\n",
    "        return self.x + self.y\n",
    "    \n",
    "    @classmethod\n",
    "    def mul(cls, b):\n",
    "        return cls.a * b\n",
    "    \n",
    "    @staticmethod\n",
    "    def sub(b, c):\n",
    "        return b - c\n",
    "    \n",
    "    @property\n",
    "    def value(self):\n",
    "       return(self.x, self.y)\n",
    "       \n",
    "    @value.setter\n",
    "    def value(self, t):\n",
    "        self.x, self.y = t\n",
    "        \n",
    "    @value.deleter\n",
    "    def value(self):\n",
    "        del self.x\n",
    "        del self.y\n",
    "        \n",
    "    \n",
    "ob = Numbers(2, 3)    \n",
    "print(ob.add())      # 5\n",
    "print(ob.mul(4))     # 12\n",
    "print(ob.sub(2,3))   # -1\n",
    "\n",
    "print(ob.value)     # (2, 3)\n",
    "ob.value = (6, 8)\n",
    "print(ob.value)     # (6, 8)"
   ]
  },
  {
   "cell_type": "code",
   "execution_count": 16,
   "metadata": {},
   "outputs": [
    {
     "name": "stdout",
     "output_type": "stream",
     "text": [
      "w\n",
      "hello\n"
     ]
    }
   ],
   "source": [
    "def d(func):\n",
    "    def w():\n",
    "        '''hello'''\n",
    "        print(func.__name__)\n",
    "        return func()\n",
    "    return w\n",
    "\n",
    "@d\n",
    "def f(x):\n",
    "    '''python'''\n",
    "    return x+2\n",
    "\n",
    "print(f.__name__)   # w\n",
    "print(f.__doc__)    # hello"
   ]
  },
  {
   "cell_type": "code",
   "execution_count": 17,
   "metadata": {},
   "outputs": [
    {
     "name": "stdout",
     "output_type": "stream",
     "text": [
      "f\n",
      "python\n"
     ]
    }
   ],
   "source": [
    "from functools import wraps\n",
    "\n",
    "def d(func):\n",
    "    @wraps(func)\n",
    "    def w():\n",
    "        '''hello'''\n",
    "        print(func.__name__)\n",
    "        return func()\n",
    "    return w\n",
    "\n",
    "@d\n",
    "def f(x):\n",
    "    '''python'''\n",
    "    return x+2\n",
    "\n",
    "print(f.__name__)   # f\n",
    "print(f.__doc__)    # python"
   ]
  },
  {
   "cell_type": "code",
   "execution_count": 18,
   "metadata": {},
   "outputs": [
    {
     "name": "stdout",
     "output_type": "stream",
     "text": [
      "5\n"
     ]
    }
   ],
   "source": [
    "class B:   \n",
    "    def __init__(self, a):\n",
    "        self.a = a\n",
    "        \n",
    "    def f(self):\n",
    "        return self.a + 2        \n",
    "\n",
    "class D(B):\n",
    "      pass\n",
    "\n",
    "ob = D(3)    \n",
    "print(ob.f())    # 5"
   ]
  },
  {
   "cell_type": "code",
   "execution_count": 19,
   "metadata": {},
   "outputs": [
    {
     "name": "stdout",
     "output_type": "stream",
     "text": [
      "5\n",
      "7\n"
     ]
    }
   ],
   "source": [
    "from abc import ABC, abstractmethod\n",
    "\n",
    "class B(ABC):   \n",
    "    def __init__(self, a):\n",
    "        self.a = a\n",
    "        super().__init__()\n",
    "    \n",
    "    @abstractmethod    \n",
    "    def f(self):\n",
    "       pass\n",
    "   \n",
    "    \n",
    "class D(B):\n",
    "     def f(self):\n",
    "        return self.a + 2  \n",
    "\n",
    "class E(B):\n",
    "     def f(self):\n",
    "        return self.a + 3  \n",
    "    \n",
    "ob = D(3)    \n",
    "print(ob.f())    # 5\n",
    "\n",
    "ob2 = E(4)\n",
    "print(ob2.f())   # 7"
   ]
  },
  {
   "cell_type": "code",
   "execution_count": null,
   "metadata": {},
   "outputs": [],
   "source": []
  }
 ],
 "metadata": {
  "kernelspec": {
   "display_name": "Python 3",
   "language": "python",
   "name": "python3"
  },
  "language_info": {
   "codemirror_mode": {
    "name": "ipython",
    "version": 3
   },
   "file_extension": ".py",
   "mimetype": "text/x-python",
   "name": "python",
   "nbconvert_exporter": "python",
   "pygments_lexer": "ipython3",
   "version": "3.12.2"
  }
 },
 "nbformat": 4,
 "nbformat_minor": 2
}
